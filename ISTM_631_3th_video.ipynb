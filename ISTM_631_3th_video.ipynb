{
  "nbformat": 4,
  "nbformat_minor": 0,
  "metadata": {
    "colab": {
      "name": "ISTM 631 4th session 9/21/2020.ipynb",
      "provenance": [],
      "include_colab_link": true
    },
    "kernelspec": {
      "name": "python3",
      "display_name": "Python 3"
    }
  },
  "cells": [
    {
      "cell_type": "markdown",
      "metadata": {
        "id": "view-in-github",
        "colab_type": "text"
      },
      "source": [
        "<a href=\"https://colab.research.google.com/github/yiningz5/istm-homework/blob/main/ISTM_631_3th_video.ipynb\" target=\"_parent\"><img src=\"https://colab.research.google.com/assets/colab-badge.svg\" alt=\"Open In Colab\"/></a>"
      ]
    },
    {
      "cell_type": "code",
      "metadata": {
        "id": "gdjvOM_HFaA2",
        "colab": {
          "base_uri": "https://localhost:8080/",
          "height": 255
        },
        "outputId": "0a376901-48f0-46e5-a801-e0517402c498"
      },
      "source": [
        "for letter in 'Arash Vafanejad':\n",
        "  if letter == 'A':\n",
        "    continue\n",
        "  print('current letter: ', letter)   "
      ],
      "execution_count": null,
      "outputs": [
        {
          "output_type": "stream",
          "text": [
            "current letter:  r\n",
            "current letter:  a\n",
            "current letter:  s\n",
            "current letter:  h\n",
            "current letter:   \n",
            "current letter:  V\n",
            "current letter:  a\n",
            "current letter:  f\n",
            "current letter:  a\n",
            "current letter:  n\n",
            "current letter:  e\n",
            "current letter:  j\n",
            "current letter:  a\n",
            "current letter:  d\n"
          ],
          "name": "stdout"
        }
      ]
    },
    {
      "cell_type": "code",
      "metadata": {
        "id": "DmuZ6t50NHa3",
        "colab": {
          "base_uri": "https://localhost:8080/",
          "height": 34
        },
        "outputId": "4e7f0011-5742-423e-f2a5-40f238e25ae3"
      },
      "source": [
        "for letter in 'Python':\n",
        "  pass\n",
        "print('last letter: ',letter)  "
      ],
      "execution_count": null,
      "outputs": [
        {
          "output_type": "stream",
          "text": [
            "last letter:  n\n"
          ],
          "name": "stdout"
        }
      ]
    },
    {
      "cell_type": "markdown",
      "metadata": {
        "id": "nadYiCfMV2gT"
      },
      "source": [
        "**homework 1:**\n",
        "\n",
        "why do we write empty loop?\n",
        "\n",
        "It can be used when we need to delay runtime of a program. In some circumstances, there is nothing for the main program to do until an interrupt occurs. Therefore, we can use empty loop to wait for the program."
      ]
    },
    {
      "cell_type": "code",
      "metadata": {
        "id": "SLDL9HCYNoR2",
        "colab": {
          "base_uri": "https://localhost:8080/",
          "height": 34
        },
        "outputId": "767e21cf-d221-48d7-f6d5-e209e9768bb3"
      },
      "source": [
        "for letter in 'Python':\n",
        "  if letter == 't':\n",
        "    break\n",
        "print('current letter: ',letter)    "
      ],
      "execution_count": null,
      "outputs": [
        {
          "output_type": "stream",
          "text": [
            "current letter:  t\n"
          ],
          "name": "stdout"
        }
      ]
    },
    {
      "cell_type": "code",
      "metadata": {
        "id": "k0DjyjSDN9tb",
        "colab": {
          "base_uri": "https://localhost:8080/",
          "height": 119
        },
        "outputId": "607aabcc-6dda-4f35-9fdb-bfcb0b6b4952"
      },
      "source": [
        "while True:\n",
        "  userInput = input('I am listening: ')\n",
        "\n",
        "  if userInput == 'Hello':\n",
        "    print('Hello to you too')\n",
        "\n",
        "  elif userInput == 'how are you: ':\n",
        "    print('fine')\n",
        "\n",
        "  elif userInput == 'bye':\n",
        "    print('bye')\n",
        "    break\n",
        "\n",
        "  else:\n",
        "    print('try again')  "
      ],
      "execution_count": null,
      "outputs": [
        {
          "output_type": "stream",
          "text": [
            "I am listening: Hello\n",
            "Hello to you too\n",
            "I am listening: byeee\n",
            "try again\n",
            "I am listening: bye\n",
            "bye\n"
          ],
          "name": "stdout"
        }
      ]
    },
    {
      "cell_type": "code",
      "metadata": {
        "id": "mmdfHIJXP8Fl",
        "colab": {
          "base_uri": "https://localhost:8080/",
          "height": 68
        },
        "outputId": "dccd36f1-ba08-4c11-c22c-73a9543ad110"
      },
      "source": [
        "a = 0\n",
        "b = 2\n",
        "\n",
        "while a < 5:\n",
        "  a += 1\n",
        "  b -= 1\n",
        "\n",
        "  try:\n",
        "    a/b\n",
        "  except:\n",
        "    print('exception encountered: a = {0}, b = {1}'.format(a,b))\n",
        "    break  \n",
        "  finally:\n",
        "    print('test test: a = {0}, b = {1}'.format(a,b))\n",
        "else:\n",
        "  print('else')      "
      ],
      "execution_count": null,
      "outputs": [
        {
          "output_type": "stream",
          "text": [
            "test test: a = 1, b = 1\n",
            "exception encountered: a = 2, b = 0\n",
            "test test: a = 2, b = 0\n"
          ],
          "name": "stdout"
        }
      ]
    },
    {
      "cell_type": "markdown",
      "metadata": {
        "id": "dkC9COh3ZDbK"
      },
      "source": [
        "**homework 2: explain this program**\n",
        "\n"
      ]
    },
    {
      "cell_type": "markdown",
      "metadata": {
        "id": "ffCJxt-LSvFE"
      },
      "source": [
        "instantiate an instance from a class, and that would be your object!\n",
        "\n",
        "Attributes "
      ]
    },
    {
      "cell_type": "markdown",
      "metadata": {
        "id": "rdyHIX19T6Cp"
      },
      "source": [
        "<img src=\"https://s3-api.us-geo.objectstorage.softlayer.net/cf-courses-data/CognitiveClass/PY0101EN/Chapter%203/Images/ClassesClass.png\" width=\"500\" />"
      ]
    },
    {
      "cell_type": "markdown",
      "metadata": {
        "id": "B4O43BomUFCC"
      },
      "source": [
        "<img src=\"https://s3-api.us-geo.objectstorage.softlayer.net/cf-courses-data/CognitiveClass/PY0101EN/Chapter%203/Images/ClassesObj.png\" width=\"500\" />"
      ]
    },
    {
      "cell_type": "markdown",
      "metadata": {
        "id": "iInA3iZ3U0Fi"
      },
      "source": [
        "Methods:\n",
        "\n",
        "\n",
        "Methods give you a way to change or interact with the object; they are functions that interact with objects. For example, let’s say we would like to increase the radius by a specified amount of a circle. We can create a method called **add_radius(r)** that increases the radius by r. where after applying the method to the \"orange circle object\", the radius of the object increases accordingly. "
      ]
    },
    {
      "cell_type": "code",
      "metadata": {
        "id": "2slxRpGJUzMT"
      },
      "source": [
        "import matplotlib.pyplot as plt\n",
        "%matplotlib inline"
      ],
      "execution_count": null,
      "outputs": []
    },
    {
      "cell_type": "code",
      "metadata": {
        "id": "Mnv3ayA-UEl6"
      },
      "source": [
        "class Circle(object):\n",
        "\n",
        "  def __init__(self, radius = 3, color = 'blue'):\n",
        "    self.radius = radius\n",
        "    self.color = color\n",
        "\n",
        "  #method\n",
        "  def add_radius(self,r):\n",
        "    self.radius = self.radius + r\n",
        "    return(self.radius)\n",
        "\n",
        "  def drawCircle(self):\n",
        "    plt.gca().add_patch(plt.Circle((0, 0), radius=self.radius, fc=self.color))\n",
        "    plt.axis('scaled')\n",
        "    plt.show() \n"
      ],
      "execution_count": null,
      "outputs": []
    },
    {
      "cell_type": "code",
      "metadata": {
        "id": "PoIY40OmW6CB"
      },
      "source": [
        "redcircle = Circle(10,'red')"
      ],
      "execution_count": null,
      "outputs": []
    },
    {
      "cell_type": "code",
      "metadata": {
        "id": "msmmFEk-ZOY8",
        "colab": {
          "base_uri": "https://localhost:8080/",
          "height": 527
        },
        "outputId": "f135e862-4f77-41b1-9679-051078e15e8f"
      },
      "source": [
        "dir(redcircle)"
      ],
      "execution_count": null,
      "outputs": [
        {
          "output_type": "execute_result",
          "data": {
            "text/plain": [
              "['__class__',\n",
              " '__delattr__',\n",
              " '__dict__',\n",
              " '__dir__',\n",
              " '__doc__',\n",
              " '__eq__',\n",
              " '__format__',\n",
              " '__ge__',\n",
              " '__getattribute__',\n",
              " '__gt__',\n",
              " '__hash__',\n",
              " '__init__',\n",
              " '__init_subclass__',\n",
              " '__le__',\n",
              " '__lt__',\n",
              " '__module__',\n",
              " '__ne__',\n",
              " '__new__',\n",
              " '__reduce__',\n",
              " '__reduce_ex__',\n",
              " '__repr__',\n",
              " '__setattr__',\n",
              " '__sizeof__',\n",
              " '__str__',\n",
              " '__subclasshook__',\n",
              " '__weakref__',\n",
              " 'add_radius',\n",
              " 'color',\n",
              " 'drawCircle',\n",
              " 'radius']"
            ]
          },
          "metadata": {
            "tags": []
          },
          "execution_count": 19
        }
      ]
    },
    {
      "cell_type": "code",
      "metadata": {
        "id": "cjWipCrZZaRX",
        "colab": {
          "base_uri": "https://localhost:8080/",
          "height": 34
        },
        "outputId": "70da60e6-7500-4493-8ec0-b3154e1ea6be"
      },
      "source": [
        "redcircle.radius"
      ],
      "execution_count": null,
      "outputs": [
        {
          "output_type": "execute_result",
          "data": {
            "text/plain": [
              "10"
            ]
          },
          "metadata": {
            "tags": []
          },
          "execution_count": 20
        }
      ]
    },
    {
      "cell_type": "code",
      "metadata": {
        "id": "IkK5vV1CZgds",
        "colab": {
          "base_uri": "https://localhost:8080/",
          "height": 35
        },
        "outputId": "63c774aa-2b4e-49f9-8a97-76610e0dff36"
      },
      "source": [
        "redcircle.color"
      ],
      "execution_count": null,
      "outputs": [
        {
          "output_type": "execute_result",
          "data": {
            "application/vnd.google.colaboratory.intrinsic+json": {
              "type": "string"
            },
            "text/plain": [
              "'red'"
            ]
          },
          "metadata": {
            "tags": []
          },
          "execution_count": 21
        }
      ]
    },
    {
      "cell_type": "code",
      "metadata": {
        "id": "qUGD_bw2ZjQF",
        "colab": {
          "base_uri": "https://localhost:8080/",
          "height": 265
        },
        "outputId": "08be36eb-a0a2-48d0-d150-0dad7456142a"
      },
      "source": [
        "redcircle.drawCircle()"
      ],
      "execution_count": null,
      "outputs": [
        {
          "output_type": "display_data",
          "data": {
            "image/png": "[encoded data removed]",
            "text/plain": [
              "<Figure size 432x288 with 1 Axes>"
            ]
          },
          "metadata": {
            "tags": [],
            "needs_background": "light"
          }
        }
      ]
    },
    {
      "cell_type": "code",
      "metadata": {
        "id": "kvQ1aZxhZox-",
        "colab": {
          "base_uri": "https://localhost:8080/",
          "height": 265
        },
        "outputId": "7d00f08d-2cbe-48c0-b41f-94c92748f091"
      },
      "source": [
        "redcircle.radius = 4\n",
        "\n",
        "redcircle.drawCircle() \n"
      ],
      "execution_count": null,
      "outputs": [
        {
          "output_type": "display_data",
          "data": {
            "image/png": "[encoded data removed]",
            "text/plain": [
              "<Figure size 432x288 with 1 Axes>"
            ]
          },
          "metadata": {
            "tags": [],
            "needs_background": "light"
          }
        }
      ]
    },
    {
      "cell_type": "code",
      "metadata": {
        "id": "Q1kcHHB_a6gi"
      },
      "source": [
        "class Rectangle(object):\n",
        "    \n",
        "    # Constructor\n",
        "    def __init__(self, width=2, height=3, color='r'):\n",
        "        self.height = height \n",
        "        self.width = width\n",
        "        self.color = color\n",
        "    \n",
        "    # Method\n",
        "    def drawRectangle(self):\n",
        "        plt.gca().add_patch(plt.Rectangle((0, 0), self.width, self.height ,fc=self.color))\n",
        "        plt.axis('scaled')\n",
        "        plt.show()"
      ],
      "execution_count": null,
      "outputs": []
    },
    {
      "cell_type": "code",
      "metadata": {
        "id": "7bhfSgQfbAZD"
      },
      "source": [
        "testRec = Rectangle(2,10)"
      ],
      "execution_count": null,
      "outputs": []
    },
    {
      "cell_type": "code",
      "metadata": {
        "id": "X_VVoqpQbI-N",
        "colab": {
          "base_uri": "https://localhost:8080/",
          "height": 265
        },
        "outputId": "4650bda3-0467-436e-a262-510357ebe2bf"
      },
      "source": [
        "testRec.drawRectangle()"
      ],
      "execution_count": null,
      "outputs": [
        {
          "output_type": "display_data",
          "data": {
            "image/png": "[encoded data removed]",
            "text/plain": [
              "<Figure size 432x288 with 1 Axes>"
            ]
          },
          "metadata": {
            "tags": [],
            "needs_background": "light"
          }
        }
      ]
    },
    {
      "cell_type": "markdown",
      "metadata": {
        "id": "nXdoNe9lZoj4"
      },
      "source": [
        ""
      ]
    },
    {
      "cell_type": "code",
      "metadata": {
        "id": "cHoYxYgAcK6u",
        "colab": {
          "base_uri": "https://localhost:8080/",
          "height": 71
        },
        "outputId": "76b5b21e-19de-4936-a7a3-4e30d7e52546"
      },
      "source": [
        "# for manipulating data\n",
        "import pandas as pd\n",
        "import numpy as np\n",
        "# for visualizations\n",
        "%matplotlib inline\n",
        "import matplotlib.pyplot as plt\n",
        "# to print out all the outputs\n",
        "from IPython.core.interactiveshell import InteractiveShell\n",
        "InteractiveShell.ast_node_interactivity = \"all\"\n",
        "# set display options\n",
        "pd.set_option('display.max_columns', None)\n",
        "pd.set_option('display.max_rows', None)\n",
        "pd.set_option('display.max_colwidth', -1)"
      ],
      "execution_count": null,
      "outputs": [
        {
          "output_type": "stream",
          "text": [
            "/usr/local/lib/python3.6/dist-packages/ipykernel_launcher.py:13: FutureWarning: Passing a negative integer is deprecated in version 1.0 and will not be supported in future version. Instead, use None to not limit the column width.\n",
            "  del sys.path[0]\n"
          ],
          "name": "stderr"
        }
      ]
    },
    {
      "cell_type": "code",
      "metadata": {
        "id": "k9reNt2pcNzN",
        "colab": {
          "base_uri": "https://localhost:8080/",
          "height": 289
        },
        "outputId": "579706f8-ac42-4892-eb27-c2d699e8de35"
      },
      "source": [
        "df = pd.read_csv('https://raw.githubusercontent.com/ecdedios/into-heart-of-darkness/master/trump_20200530.csv')\n",
        "\n",
        "df.head()"
      ],
      "execution_count": null,
      "outputs": [
        {
          "output_type": "execute_result",
          "data": {
            "text/html": [
              "<div>\n",
              "<style scoped>\n",
              "    .dataframe tbody tr th:only-of-type {\n",
              "        vertical-align: middle;\n",
              "    }\n",
              "\n",
              "    .dataframe tbody tr th {\n",
              "        vertical-align: top;\n",
              "    }\n",
              "\n",
              "    .dataframe thead th {\n",
              "        text-align: right;\n",
              "    }\n",
              "</style>\n",
              "<table border=\"1\" class=\"dataframe\">\n",
              "  <thead>\n",
              "    <tr style=\"text-align: right;\">\n",
              "      <th></th>\n",
              "      <th>source</th>\n",
              "      <th>text</th>\n",
              "      <th>created_at</th>\n",
              "      <th>retweet_count</th>\n",
              "      <th>favorite_count</th>\n",
              "      <th>is_retweet</th>\n",
              "      <th>id_str</th>\n",
              "    </tr>\n",
              "  </thead>\n",
              "  <tbody>\n",
              "    <tr>\n",
              "      <th>0</th>\n",
              "      <td>Twitter for iPhone</td>\n",
              "      <td>RT @ScottAdamsSays: Malaria drug and zinc the missing link https://t.co/FC9CpuH0Yr via @theconwom</td>\n",
              "      <td>05-30-2020 03:26:31</td>\n",
              "      <td>10566</td>\n",
              "      <td>0</td>\n",
              "      <td>True</td>\n",
              "      <td>1266571665204527109</td>\n",
              "    </tr>\n",
              "    <tr>\n",
              "      <th>1</th>\n",
              "      <td>Twitter for iPhone</td>\n",
              "      <td>RT @YoungDems4Trump: In Democrat cities you can get arrested for opening a business but not for looting one. #MinneapolisRiot #Coronavirus</td>\n",
              "      <td>05-30-2020 03:21:41</td>\n",
              "      <td>22320</td>\n",
              "      <td>0</td>\n",
              "      <td>True</td>\n",
              "      <td>1266570449431003138</td>\n",
              "    </tr>\n",
              "    <tr>\n",
              "      <th>2</th>\n",
              "      <td>Twitter for iPhone</td>\n",
              "      <td>RT @YoungDems4Trump: So sad. This poor business owner lost everything due to the  #MinneapolisRiothttps://t.co/mK0nHFNthS</td>\n",
              "      <td>05-30-2020 03:21:32</td>\n",
              "      <td>23961</td>\n",
              "      <td>0</td>\n",
              "      <td>True</td>\n",
              "      <td>1266570411678019584</td>\n",
              "    </tr>\n",
              "    <tr>\n",
              "      <th>3</th>\n",
              "      <td>Twitter for iPhone</td>\n",
              "      <td>Time for a change! #2020 https://t.co/AECy2GBfys</td>\n",
              "      <td>05-30-2020 03:20:18</td>\n",
              "      <td>42879</td>\n",
              "      <td>164022</td>\n",
              "      <td>False</td>\n",
              "      <td>1266570099454103553</td>\n",
              "    </tr>\n",
              "    <tr>\n",
              "      <th>4</th>\n",
              "      <td>Twitter for iPhone</td>\n",
              "      <td>RT @TallahForTrump: Trump spoke at my church in Detroit and it opened my eyes. Never again will I be a slave to the Democrats!👊 Let us rise…</td>\n",
              "      <td>05-30-2020 03:19:01</td>\n",
              "      <td>36563</td>\n",
              "      <td>0</td>\n",
              "      <td>True</td>\n",
              "      <td>1266569778770182151</td>\n",
              "    </tr>\n",
              "  </tbody>\n",
              "</table>\n",
              "</div>"
            ],
            "text/plain": [
              "               source  \\\n",
              "0  Twitter for iPhone   \n",
              "1  Twitter for iPhone   \n",
              "2  Twitter for iPhone   \n",
              "3  Twitter for iPhone   \n",
              "4  Twitter for iPhone   \n",
              "\n",
              "                                                                                                                                           text  \\\n",
              "0  RT @ScottAdamsSays: Malaria drug and zinc the missing link https://t.co/FC9CpuH0Yr via @theconwom                                              \n",
              "1  RT @YoungDems4Trump: In Democrat cities you can get arrested for opening a business but not for looting one. #MinneapolisRiot #Coronavirus     \n",
              "2  RT @YoungDems4Trump: So sad. This poor business owner lost everything due to the  #MinneapolisRiothttps://t.co/mK0nHFNthS                      \n",
              "3  Time for a change! #2020 https://t.co/AECy2GBfys                                                                                               \n",
              "4  RT @TallahForTrump: Trump spoke at my church in Detroit and it opened my eyes. Never again will I be a slave to the Democrats!👊 Let us rise…   \n",
              "\n",
              "            created_at  retweet_count  favorite_count is_retweet  \\\n",
              "0  05-30-2020 03:26:31  10566          0               True        \n",
              "1  05-30-2020 03:21:41  22320          0               True        \n",
              "2  05-30-2020 03:21:32  23961          0               True        \n",
              "3  05-30-2020 03:20:18  42879          164022          False       \n",
              "4  05-30-2020 03:19:01  36563          0               True        \n",
              "\n",
              "                id_str  \n",
              "0  1266571665204527109  \n",
              "1  1266570449431003138  \n",
              "2  1266570411678019584  \n",
              "3  1266570099454103553  \n",
              "4  1266569778770182151  "
            ]
          },
          "metadata": {
            "tags": []
          },
          "execution_count": 30
        }
      ]
    },
    {
      "cell_type": "code",
      "metadata": {
        "id": "etkc6jwddTV1"
      },
      "source": [
        "df.columns=['source', 'tweet', 'date_time', 'retweets', 'favorites', 'is_retweet', 'id']"
      ],
      "execution_count": null,
      "outputs": []
    },
    {
      "cell_type": "code",
      "metadata": {
        "id": "7S3sEUtLdXYB"
      },
      "source": [
        "df = df.drop(columns=['id'])"
      ],
      "execution_count": null,
      "outputs": []
    },
    {
      "cell_type": "code",
      "metadata": {
        "id": "a8YpG74Nda_k",
        "colab": {
          "base_uri": "https://localhost:8080/",
          "height": 102
        },
        "outputId": "546e4b14-315b-413c-fcd5-03df8d6b6146"
      },
      "source": [
        "# for working with timestamps\n",
        "from datetime import datetime\n",
        "from dateutil.parser import parse\n",
        "dt = []\n",
        "for ts in df.date_time:\n",
        "  dt.append(parse(ts))\n",
        "dt[:5]"
      ],
      "execution_count": null,
      "outputs": [
        {
          "output_type": "execute_result",
          "data": {
            "text/plain": [
              "[datetime.datetime(2020, 5, 30, 3, 26, 31),\n",
              " datetime.datetime(2020, 5, 30, 3, 21, 41),\n",
              " datetime.datetime(2020, 5, 30, 3, 21, 32),\n",
              " datetime.datetime(2020, 5, 30, 3, 20, 18),\n",
              " datetime.datetime(2020, 5, 30, 3, 19, 1)]"
            ]
          },
          "metadata": {
            "tags": []
          },
          "execution_count": 33
        }
      ]
    },
    {
      "cell_type": "code",
      "metadata": {
        "id": "tuKhqupedfTq"
      },
      "source": [
        "df['datetime'] = df.apply(lambda row: parse(row.date_time), axis=1)"
      ],
      "execution_count": null,
      "outputs": []
    },
    {
      "cell_type": "code",
      "metadata": {
        "id": "5mfn40SzdqfE",
        "colab": {
          "base_uri": "https://localhost:8080/",
          "height": 34
        },
        "outputId": "d3cc4dc5-0ede-42e8-a00f-87ebc57e7958"
      },
      "source": [
        "df.datetime.min()\n",
        "df.datetime.max()"
      ],
      "execution_count": null,
      "outputs": [
        {
          "output_type": "execute_result",
          "data": {
            "text/plain": [
              "Timestamp('2017-01-20 12:31:53')"
            ]
          },
          "metadata": {
            "tags": []
          },
          "execution_count": 35
        },
        {
          "output_type": "execute_result",
          "data": {
            "text/plain": [
              "Timestamp('2020-05-30 03:26:31')"
            ]
          },
          "metadata": {
            "tags": []
          },
          "execution_count": 35
        }
      ]
    },
    {
      "cell_type": "code",
      "metadata": {
        "id": "HT24UTtzdtuL",
        "colab": {
          "base_uri": "https://localhost:8080/",
          "height": 170
        },
        "outputId": "e93c4413-b7f6-48c0-b32b-22a51f8631f5"
      },
      "source": [
        "df.source.value_counts()"
      ],
      "execution_count": null,
      "outputs": [
        {
          "output_type": "execute_result",
          "data": {
            "text/plain": [
              "Twitter for iPhone      17843\n",
              "Twitter Media Studio    174  \n",
              "Twitter for Android     174  \n",
              "Media Studio            153  \n",
              "Twitter Web Client      48   \n",
              "Twitter for iPad        38   \n",
              "Twitter Ads             33   \n",
              "Twitter Web App         4    \n",
              "Name: source, dtype: int64"
            ]
          },
          "metadata": {
            "tags": []
          },
          "execution_count": 36
        }
      ]
    },
    {
      "cell_type": "code",
      "metadata": {
        "id": "UlUUSdu4dysW",
        "colab": {
          "base_uri": "https://localhost:8080/",
          "height": 68
        },
        "outputId": "b22731a0-b517-4e7f-a42a-88f62855d12e"
      },
      "source": [
        "df.is_retweet.value_counts()"
      ],
      "execution_count": null,
      "outputs": [
        {
          "output_type": "execute_result",
          "data": {
            "text/plain": [
              "False    16509\n",
              "True     1900 \n",
              "Name: is_retweet, dtype: int64"
            ]
          },
          "metadata": {
            "tags": []
          },
          "execution_count": 37
        }
      ]
    },
    {
      "cell_type": "code",
      "metadata": {
        "id": "C_o_Fbs3d0pP"
      },
      "source": [
        "df2 = df.loc[df.is_retweet == True]\n",
        "\n",
        "df = df.loc[df.source == 'Twitter for iPhone']"
      ],
      "execution_count": null,
      "outputs": []
    },
    {
      "cell_type": "code",
      "metadata": {
        "id": "Vibc5keMd27r"
      },
      "source": [
        "df = df.drop(columns=['date_time', 'source'])"
      ],
      "execution_count": null,
      "outputs": []
    },
    {
      "cell_type": "code",
      "metadata": {
        "id": "vbrggvzDd4eX",
        "colab": {
          "base_uri": "https://localhost:8080/",
          "height": 68
        },
        "outputId": "43f25b0c-89b4-4635-98c2-f6d8d24d034e"
      },
      "source": [
        "df.is_retweet.value_counts()\n"
      ],
      "execution_count": null,
      "outputs": [
        {
          "output_type": "execute_result",
          "data": {
            "text/plain": [
              "False    15890\n",
              "True     1897 \n",
              "Name: is_retweet, dtype: int64"
            ]
          },
          "metadata": {
            "tags": []
          },
          "execution_count": 40
        }
      ]
    },
    {
      "cell_type": "code",
      "metadata": {
        "id": "7hWBigrvd7aV"
      },
      "source": [
        "df_retweets = df.loc[df.is_retweet == True]\n",
        "df_retweets = df_retweets.drop(columns=['is_retweet'])"
      ],
      "execution_count": null,
      "outputs": []
    },
    {
      "cell_type": "code",
      "metadata": {
        "id": "JylR7bVaeGEw",
        "colab": {
          "base_uri": "https://localhost:8080/",
          "height": 289
        },
        "outputId": "dbf8a39b-907a-4b2e-9f8e-277db4cc5938"
      },
      "source": [
        "df2.head()"
      ],
      "execution_count": null,
      "outputs": [
        {
          "output_type": "execute_result",
          "data": {
            "text/html": [
              "<div>\n",
              "<style scoped>\n",
              "    .dataframe tbody tr th:only-of-type {\n",
              "        vertical-align: middle;\n",
              "    }\n",
              "\n",
              "    .dataframe tbody tr th {\n",
              "        vertical-align: top;\n",
              "    }\n",
              "\n",
              "    .dataframe thead th {\n",
              "        text-align: right;\n",
              "    }\n",
              "</style>\n",
              "<table border=\"1\" class=\"dataframe\">\n",
              "  <thead>\n",
              "    <tr style=\"text-align: right;\">\n",
              "      <th></th>\n",
              "      <th>source</th>\n",
              "      <th>tweet</th>\n",
              "      <th>date_time</th>\n",
              "      <th>retweets</th>\n",
              "      <th>favorites</th>\n",
              "      <th>is_retweet</th>\n",
              "      <th>datetime</th>\n",
              "    </tr>\n",
              "  </thead>\n",
              "  <tbody>\n",
              "    <tr>\n",
              "      <th>0</th>\n",
              "      <td>Twitter for iPhone</td>\n",
              "      <td>RT @ScottAdamsSays: Malaria drug and zinc the missing link https://t.co/FC9CpuH0Yr via @theconwom</td>\n",
              "      <td>05-30-2020 03:26:31</td>\n",
              "      <td>10566</td>\n",
              "      <td>0</td>\n",
              "      <td>True</td>\n",
              "      <td>2020-05-30 03:26:31</td>\n",
              "    </tr>\n",
              "    <tr>\n",
              "      <th>1</th>\n",
              "      <td>Twitter for iPhone</td>\n",
              "      <td>RT @YoungDems4Trump: In Democrat cities you can get arrested for opening a business but not for looting one. #MinneapolisRiot #Coronavirus</td>\n",
              "      <td>05-30-2020 03:21:41</td>\n",
              "      <td>22320</td>\n",
              "      <td>0</td>\n",
              "      <td>True</td>\n",
              "      <td>2020-05-30 03:21:41</td>\n",
              "    </tr>\n",
              "    <tr>\n",
              "      <th>2</th>\n",
              "      <td>Twitter for iPhone</td>\n",
              "      <td>RT @YoungDems4Trump: So sad. This poor business owner lost everything due to the  #MinneapolisRiothttps://t.co/mK0nHFNthS</td>\n",
              "      <td>05-30-2020 03:21:32</td>\n",
              "      <td>23961</td>\n",
              "      <td>0</td>\n",
              "      <td>True</td>\n",
              "      <td>2020-05-30 03:21:32</td>\n",
              "    </tr>\n",
              "    <tr>\n",
              "      <th>4</th>\n",
              "      <td>Twitter for iPhone</td>\n",
              "      <td>RT @TallahForTrump: Trump spoke at my church in Detroit and it opened my eyes. Never again will I be a slave to the Democrats!👊 Let us rise…</td>\n",
              "      <td>05-30-2020 03:19:01</td>\n",
              "      <td>36563</td>\n",
              "      <td>0</td>\n",
              "      <td>True</td>\n",
              "      <td>2020-05-30 03:19:01</td>\n",
              "    </tr>\n",
              "    <tr>\n",
              "      <th>5</th>\n",
              "      <td>Twitter for iPhone</td>\n",
              "      <td>RT @TheRightMelissa: In an ironic twist of fate CNN HQ is being attacked by the very riots they promoted as noble &amp;amp; just. Oops</td>\n",
              "      <td>05-30-2020 03:18:18</td>\n",
              "      <td>25405</td>\n",
              "      <td>0</td>\n",
              "      <td>True</td>\n",
              "      <td>2020-05-30 03:18:18</td>\n",
              "    </tr>\n",
              "  </tbody>\n",
              "</table>\n",
              "</div>"
            ],
            "text/plain": [
              "               source  \\\n",
              "0  Twitter for iPhone   \n",
              "1  Twitter for iPhone   \n",
              "2  Twitter for iPhone   \n",
              "4  Twitter for iPhone   \n",
              "5  Twitter for iPhone   \n",
              "\n",
              "                                                                                                                                          tweet  \\\n",
              "0  RT @ScottAdamsSays: Malaria drug and zinc the missing link https://t.co/FC9CpuH0Yr via @theconwom                                              \n",
              "1  RT @YoungDems4Trump: In Democrat cities you can get arrested for opening a business but not for looting one. #MinneapolisRiot #Coronavirus     \n",
              "2  RT @YoungDems4Trump: So sad. This poor business owner lost everything due to the  #MinneapolisRiothttps://t.co/mK0nHFNthS                      \n",
              "4  RT @TallahForTrump: Trump spoke at my church in Detroit and it opened my eyes. Never again will I be a slave to the Democrats!👊 Let us rise…   \n",
              "5  RT @TheRightMelissa: In an ironic twist of fate CNN HQ is being attacked by the very riots they promoted as noble &amp; just. Oops             \n",
              "\n",
              "             date_time  retweets  favorites is_retweet            datetime  \n",
              "0  05-30-2020 03:26:31  10566     0          True      2020-05-30 03:26:31  \n",
              "1  05-30-2020 03:21:41  22320     0          True      2020-05-30 03:21:41  \n",
              "2  05-30-2020 03:21:32  23961     0          True      2020-05-30 03:21:32  \n",
              "4  05-30-2020 03:19:01  36563     0          True      2020-05-30 03:19:01  \n",
              "5  05-30-2020 03:18:18  25405     0          True      2020-05-30 03:18:18  "
            ]
          },
          "metadata": {
            "tags": []
          },
          "execution_count": 42
        }
      ]
    },
    {
      "cell_type": "code",
      "metadata": {
        "id": "GBaemET7eIlU"
      },
      "source": [
        "df = df.loc[df.is_retweet == False]\n",
        "df = df.drop(columns=['is_retweet'])"
      ],
      "execution_count": null,
      "outputs": []
    },
    {
      "cell_type": "code",
      "metadata": {
        "id": "idUNGpUrePUP",
        "colab": {
          "base_uri": "https://localhost:8080/",
          "height": 534
        },
        "outputId": "722e4e86-ed37-47bf-ad77-463badadc240"
      },
      "source": [
        "title = 'Number of Tweets by Hour'\n",
        "df.tweet.groupby(df.datetime.dt.hour).count().plot(figsize=(12,8), fontsize=14, kind='bar', rot=0, title=title)\n",
        "plt.xlabel('Hour')\n",
        "plt.ylabel('Number of Tweets')"
      ],
      "execution_count": null,
      "outputs": [
        {
          "output_type": "execute_result",
          "data": {
            "text/plain": [
              "<matplotlib.axes._subplots.AxesSubplot at 0x7fc96c32b438>"
            ]
          },
          "metadata": {
            "tags": []
          },
          "execution_count": 44
        },
        {
          "output_type": "execute_result",
          "data": {
            "text/plain": [
              "Text(0.5, 0, 'Hour')"
            ]
          },
          "metadata": {
            "tags": []
          },
          "execution_count": 44
        },
        {
          "output_type": "execute_result",
          "data": {
            "text/plain": [
              "Text(0, 0.5, 'Number of Tweets')"
            ]
          },
          "metadata": {
            "tags": []
          },
          "execution_count": 44
        },
        {
          "output_type": "display_data",
          "data": {
            "image/png": "[encoded data removed]",
            "text/plain": [
              "<Figure size 864x576 with 1 Axes>"
            ]
          },
          "metadata": {
            "tags": [],
            "needs_background": "light"
          }
        }
      ]
    },
    {
      "cell_type": "code",
      "metadata": {
        "id": "n-sn4E8-evos",
        "colab": {
          "base_uri": "https://localhost:8080/",
          "height": 755
        },
        "outputId": "3a5de880-fb4c-4452-b033-f890de0810f4"
      },
      "source": [
        "title = 'Number of Tweets by Day of the Week'\n",
        "df.tweet.groupby(df.datetime.dt.dayofweek).count().plot(figsize=(12,8), fontsize=14, kind='bar', rot=0, title=title)\n",
        "plt.xlabel('Day of the Week')\n",
        "plt.ylabel('Number of Tweets')\n",
        "plt.xticks(np.arange(7),['Mon', 'Tue', 'Wed', 'Thu', 'Fri', 'Sat', 'Sun'])"
      ],
      "execution_count": null,
      "outputs": [
        {
          "output_type": "execute_result",
          "data": {
            "text/plain": [
              "<matplotlib.axes._subplots.AxesSubplot at 0x7fc96b36fe80>"
            ]
          },
          "metadata": {
            "tags": []
          },
          "execution_count": 45
        },
        {
          "output_type": "execute_result",
          "data": {
            "text/plain": [
              "Text(0.5, 0, 'Day of the Week')"
            ]
          },
          "metadata": {
            "tags": []
          },
          "execution_count": 45
        },
        {
          "output_type": "execute_result",
          "data": {
            "text/plain": [
              "Text(0, 0.5, 'Number of Tweets')"
            ]
          },
          "metadata": {
            "tags": []
          },
          "execution_count": 45
        },
        {
          "output_type": "execute_result",
          "data": {
            "text/plain": [
              "([<matplotlib.axis.XTick at 0x7fc96b376f60>,\n",
              "  <matplotlib.axis.XTick at 0x7fc96b376f28>,\n",
              "  <matplotlib.axis.XTick at 0x7fc96b378908>,\n",
              "  <matplotlib.axis.XTick at 0x7fc96b3a6cf8>,\n",
              "  <matplotlib.axis.XTick at 0x7fc96b3311d0>,\n",
              "  <matplotlib.axis.XTick at 0x7fc96b331668>,\n",
              "  <matplotlib.axis.XTick at 0x7fc96b331b00>],\n",
              " [Text(0, 0, 'Mon'),\n",
              "  Text(0, 0, 'Tue'),\n",
              "  Text(0, 0, 'Wed'),\n",
              "  Text(0, 0, 'Thu'),\n",
              "  Text(0, 0, 'Fri'),\n",
              "  Text(0, 0, 'Sat'),\n",
              "  Text(0, 0, 'Sun')])"
            ]
          },
          "metadata": {
            "tags": []
          },
          "execution_count": 45
        },
        {
          "output_type": "display_data",
          "data": {
            "image/png": "[encoded data removed]",
            "text/plain": [
              "<Figure size 864x576 with 1 Axes>"
            ]
          },
          "metadata": {
            "tags": [],
            "needs_background": "light"
          }
        }
      ]
    },
    {
      "cell_type": "code",
      "metadata": {
        "id": "Bb_spVV2e-sQ"
      },
      "source": [
        "import re\n",
        "pattern = re.compile('(?<=RT @).*?(?=:)')\n",
        "df_retweets['original'] = [re.search(pattern, tweet).group(0) for tweet in df_retweets.tweet]"
      ],
      "execution_count": null,
      "outputs": []
    },
    {
      "cell_type": "code",
      "metadata": {
        "id": "JieUaKBDfADc"
      },
      "source": [
        "df_originals = df_retweets.groupby(['original']).sum().sort_values('retweets').reset_index().sort_values('retweets', ascending=False)"
      ],
      "execution_count": null,
      "outputs": []
    },
    {
      "cell_type": "code",
      "metadata": {
        "id": "1FlIbw-WfAtn",
        "colab": {
          "base_uri": "https://localhost:8080/",
          "height": 221
        },
        "outputId": "7d0a33a2-491e-45bd-bff6-cd13e945e0eb"
      },
      "source": [
        "df_originals.head()\n",
        "df_originals.shape"
      ],
      "execution_count": null,
      "outputs": [
        {
          "output_type": "execute_result",
          "data": {
            "text/html": [
              "<div>\n",
              "<style scoped>\n",
              "    .dataframe tbody tr th:only-of-type {\n",
              "        vertical-align: middle;\n",
              "    }\n",
              "\n",
              "    .dataframe tbody tr th {\n",
              "        vertical-align: top;\n",
              "    }\n",
              "\n",
              "    .dataframe thead th {\n",
              "        text-align: right;\n",
              "    }\n",
              "</style>\n",
              "<table border=\"1\" class=\"dataframe\">\n",
              "  <thead>\n",
              "    <tr style=\"text-align: right;\">\n",
              "      <th></th>\n",
              "      <th>original</th>\n",
              "      <th>retweets</th>\n",
              "      <th>favorites</th>\n",
              "    </tr>\n",
              "  </thead>\n",
              "  <tbody>\n",
              "    <tr>\n",
              "      <th>490</th>\n",
              "      <td>realDonaldTrump</td>\n",
              "      <td>6075781</td>\n",
              "      <td>0</td>\n",
              "    </tr>\n",
              "    <tr>\n",
              "      <th>489</th>\n",
              "      <td>WhiteHouse</td>\n",
              "      <td>1237438</td>\n",
              "      <td>0</td>\n",
              "    </tr>\n",
              "    <tr>\n",
              "      <th>488</th>\n",
              "      <td>Jim_Jordan</td>\n",
              "      <td>772172</td>\n",
              "      <td>0</td>\n",
              "    </tr>\n",
              "    <tr>\n",
              "      <th>487</th>\n",
              "      <td>FLOTUS</td>\n",
              "      <td>575995</td>\n",
              "      <td>0</td>\n",
              "    </tr>\n",
              "    <tr>\n",
              "      <th>486</th>\n",
              "      <td>Scavino45</td>\n",
              "      <td>511557</td>\n",
              "      <td>0</td>\n",
              "    </tr>\n",
              "  </tbody>\n",
              "</table>\n",
              "</div>"
            ],
            "text/plain": [
              "            original  retweets  favorites\n",
              "490  realDonaldTrump  6075781   0        \n",
              "489  WhiteHouse       1237438   0        \n",
              "488  Jim_Jordan       772172    0        \n",
              "487  FLOTUS           575995    0        \n",
              "486  Scavino45        511557    0        "
            ]
          },
          "metadata": {
            "tags": []
          },
          "execution_count": 48
        },
        {
          "output_type": "execute_result",
          "data": {
            "text/plain": [
              "(491, 3)"
            ]
          },
          "metadata": {
            "tags": []
          },
          "execution_count": 48
        }
      ]
    },
    {
      "cell_type": "code",
      "metadata": {
        "id": "aaWGc6oifHy4",
        "colab": {
          "base_uri": "https://localhost:8080/",
          "height": 606
        },
        "outputId": "4ca2f767-008d-45c8-84c0-d6db87abc868"
      },
      "source": [
        "df_originals = df_retweets.groupby(['original']).sum().sort_values('retweets').reset_index().sort_values('retweets', ascending=False)[:10].sort_values('retweets')\n",
        "df_originals.plot.barh(x='original', y='retweets', figsize=(16,10), fontsize=16)\n",
        "plt.xlabel(\"Originating Tweet's Username\")\n",
        "plt.xticks([])"
      ],
      "execution_count": null,
      "outputs": [
        {
          "output_type": "execute_result",
          "data": {
            "text/plain": [
              "<matplotlib.axes._subplots.AxesSubplot at 0x7fc96b2ca5c0>"
            ]
          },
          "metadata": {
            "tags": []
          },
          "execution_count": 49
        },
        {
          "output_type": "execute_result",
          "data": {
            "text/plain": [
              "Text(0.5, 0, \"Originating Tweet's Username\")"
            ]
          },
          "metadata": {
            "tags": []
          },
          "execution_count": 49
        },
        {
          "output_type": "execute_result",
          "data": {
            "text/plain": [
              "([], <a list of 0 Text major ticklabel objects>)"
            ]
          },
          "metadata": {
            "tags": []
          },
          "execution_count": 49
        },
        {
          "output_type": "display_data",
          "data": {
            "image/png": "[encoded data removed]",
            "text/plain": [
              "<Figure size 1152x720 with 1 Axes>"
            ]
          },
          "metadata": {
            "tags": [],
            "needs_background": "light"
          }
        }
      ]
    },
    {
      "cell_type": "code",
      "metadata": {
        "id": "mgldbHyLfKfp",
        "colab": {
          "base_uri": "https://localhost:8080/",
          "height": 204
        },
        "outputId": "6476b742-4c28-44e8-8be1-9af3fde24879"
      },
      "source": [
        "df_retweets.loc[df_retweets.original == 'realDonaldTrump'].sort_values('retweets', ascending=False)[:5]"
      ],
      "execution_count": null,
      "outputs": [
        {
          "output_type": "execute_result",
          "data": {
            "text/html": [
              "<div>\n",
              "<style scoped>\n",
              "    .dataframe tbody tr th:only-of-type {\n",
              "        vertical-align: middle;\n",
              "    }\n",
              "\n",
              "    .dataframe tbody tr th {\n",
              "        vertical-align: top;\n",
              "    }\n",
              "\n",
              "    .dataframe thead th {\n",
              "        text-align: right;\n",
              "    }\n",
              "</style>\n",
              "<table border=\"1\" class=\"dataframe\">\n",
              "  <thead>\n",
              "    <tr style=\"text-align: right;\">\n",
              "      <th></th>\n",
              "      <th>tweet</th>\n",
              "      <th>retweets</th>\n",
              "      <th>favorites</th>\n",
              "      <th>datetime</th>\n",
              "      <th>original</th>\n",
              "    </tr>\n",
              "  </thead>\n",
              "  <tbody>\n",
              "    <tr>\n",
              "      <th>5522</th>\n",
              "      <td>RT @realDonaldTrump: https://t.co/11nzKwOCtU</td>\n",
              "      <td>201682</td>\n",
              "      <td>0</td>\n",
              "      <td>2019-12-09 04:59:41</td>\n",
              "      <td>realDonaldTrump</td>\n",
              "    </tr>\n",
              "    <tr>\n",
              "      <th>4956</th>\n",
              "      <td>RT @realDonaldTrump: https://t.co/DutxclyZw9</td>\n",
              "      <td>123202</td>\n",
              "      <td>0</td>\n",
              "      <td>2019-12-20 11:28:32</td>\n",
              "      <td>realDonaldTrump</td>\n",
              "    </tr>\n",
              "    <tr>\n",
              "      <th>14559</th>\n",
              "      <td>RT @realDonaldTrump: They just didn't get it but they do now! https://t.co/9T50NupkDy</td>\n",
              "      <td>108867</td>\n",
              "      <td>0</td>\n",
              "      <td>2018-07-10 11:38:10</td>\n",
              "      <td>realDonaldTrump</td>\n",
              "    </tr>\n",
              "    <tr>\n",
              "      <th>472</th>\n",
              "      <td>RT @realDonaldTrump: I am proud to announce that the United States will donate ventilators to our friends in India. We stand with India and…</td>\n",
              "      <td>79957</td>\n",
              "      <td>0</td>\n",
              "      <td>2020-05-16 13:17:11</td>\n",
              "      <td>realDonaldTrump</td>\n",
              "    </tr>\n",
              "    <tr>\n",
              "      <th>14763</th>\n",
              "      <td>RT @realDonaldTrump: Don’t worry the Republicans and your President will fix it! https://t.co/xsbuPzXbHj</td>\n",
              "      <td>72746</td>\n",
              "      <td>0</td>\n",
              "      <td>2018-06-22 02:12:34</td>\n",
              "      <td>realDonaldTrump</td>\n",
              "    </tr>\n",
              "  </tbody>\n",
              "</table>\n",
              "</div>"
            ],
            "text/plain": [
              "                                                                                                                                              tweet  \\\n",
              "5522   RT @realDonaldTrump: https://t.co/11nzKwOCtU                                                                                                   \n",
              "4956   RT @realDonaldTrump: https://t.co/DutxclyZw9                                                                                                   \n",
              "14559  RT @realDonaldTrump: They just didn't get it but they do now! https://t.co/9T50NupkDy                                                          \n",
              "472    RT @realDonaldTrump: I am proud to announce that the United States will donate ventilators to our friends in India. We stand with India and…   \n",
              "14763  RT @realDonaldTrump: Don’t worry the Republicans and your President will fix it! https://t.co/xsbuPzXbHj                                       \n",
              "\n",
              "       retweets  favorites            datetime         original  \n",
              "5522   201682    0         2019-12-09 04:59:41  realDonaldTrump  \n",
              "4956   123202    0         2019-12-20 11:28:32  realDonaldTrump  \n",
              "14559  108867    0         2018-07-10 11:38:10  realDonaldTrump  \n",
              "472    79957     0         2020-05-16 13:17:11  realDonaldTrump  \n",
              "14763  72746     0         2018-06-22 02:12:34  realDonaldTrump  "
            ]
          },
          "metadata": {
            "tags": []
          },
          "execution_count": 50
        }
      ]
    },
    {
      "cell_type": "code",
      "metadata": {
        "id": "xtNK4LBBfMfC",
        "colab": {
          "base_uri": "https://localhost:8080/",
          "height": 204
        },
        "outputId": "1c6a1978-bb83-498b-92ff-f0e2aad84d2e"
      },
      "source": [
        "df_retweets.loc[df_retweets.original == 'charliekirk11'].sort_values('retweets', ascending=False)[:5]"
      ],
      "execution_count": null,
      "outputs": [
        {
          "output_type": "execute_result",
          "data": {
            "text/html": [
              "<div>\n",
              "<style scoped>\n",
              "    .dataframe tbody tr th:only-of-type {\n",
              "        vertical-align: middle;\n",
              "    }\n",
              "\n",
              "    .dataframe tbody tr th {\n",
              "        vertical-align: top;\n",
              "    }\n",
              "\n",
              "    .dataframe thead th {\n",
              "        text-align: right;\n",
              "    }\n",
              "</style>\n",
              "<table border=\"1\" class=\"dataframe\">\n",
              "  <thead>\n",
              "    <tr style=\"text-align: right;\">\n",
              "      <th></th>\n",
              "      <th>tweet</th>\n",
              "      <th>retweets</th>\n",
              "      <th>favorites</th>\n",
              "      <th>datetime</th>\n",
              "      <th>original</th>\n",
              "    </tr>\n",
              "  </thead>\n",
              "  <tbody>\n",
              "    <tr>\n",
              "      <th>301</th>\n",
              "      <td>RT @charliekirk11: RT if President Trump should withhold federal funds to states that try to STEAL our elections with voter fraud!</td>\n",
              "      <td>36903</td>\n",
              "      <td>0</td>\n",
              "      <td>2020-05-21 04:56:01</td>\n",
              "      <td>charliekirk11</td>\n",
              "    </tr>\n",
              "    <tr>\n",
              "      <th>4811</th>\n",
              "      <td>RT @charliekirk11: This is your daily reminder that:Barack Obama asked Ukraine to investigate his political rival's campaign manager3 D…</td>\n",
              "      <td>36885</td>\n",
              "      <td>0</td>\n",
              "      <td>2019-12-27 13:07:42</td>\n",
              "      <td>charliekirk11</td>\n",
              "    </tr>\n",
              "    <tr>\n",
              "      <th>1440</th>\n",
              "      <td>RT @charliekirk11: This is your daily reminder that Joe Biden flew his son to China on Air Force 2 to help him secure a $1.5 BILLION deal w…</td>\n",
              "      <td>33067</td>\n",
              "      <td>0</td>\n",
              "      <td>2020-04-18 03:45:29</td>\n",
              "      <td>charliekirk11</td>\n",
              "    </tr>\n",
              "    <tr>\n",
              "      <th>1443</th>\n",
              "      <td>RT @charliekirk11: Did you know:Ilhan Omar's campaign is on track to pay her husband's consulting firm $1.16 MILLION in 2020Last year…</td>\n",
              "      <td>32540</td>\n",
              "      <td>0</td>\n",
              "      <td>2020-04-18 03:43:53</td>\n",
              "      <td>charliekirk11</td>\n",
              "    </tr>\n",
              "    <tr>\n",
              "      <th>12783</th>\n",
              "      <td>RT @charliekirk11: There are riots in socialist France because of radical leftist fuel taxesMedia barely mentioning thisAmerica is boom…</td>\n",
              "      <td>30691</td>\n",
              "      <td>0</td>\n",
              "      <td>2018-12-04 16:24:07</td>\n",
              "      <td>charliekirk11</td>\n",
              "    </tr>\n",
              "  </tbody>\n",
              "</table>\n",
              "</div>"
            ],
            "text/plain": [
              "                                                                                                                                              tweet  \\\n",
              "301    RT @charliekirk11: RT if President Trump should withhold federal funds to states that try to STEAL our elections with voter fraud!             \n",
              "4811   RT @charliekirk11: This is your daily reminder that:Barack Obama asked Ukraine to investigate his political rival's campaign manager3 D…       \n",
              "1440   RT @charliekirk11: This is your daily reminder that Joe Biden flew his son to China on Air Force 2 to help him secure a $1.5 BILLION deal w…   \n",
              "1443   RT @charliekirk11: Did you know:Ilhan Omar's campaign is on track to pay her husband's consulting firm $1.16 MILLION in 2020Last year…         \n",
              "12783  RT @charliekirk11: There are riots in socialist France because of radical leftist fuel taxesMedia barely mentioning thisAmerica is boom…       \n",
              "\n",
              "       retweets  favorites            datetime       original  \n",
              "301    36903     0         2020-05-21 04:56:01  charliekirk11  \n",
              "4811   36885     0         2019-12-27 13:07:42  charliekirk11  \n",
              "1440   33067     0         2020-04-18 03:45:29  charliekirk11  \n",
              "1443   32540     0         2020-04-18 03:43:53  charliekirk11  \n",
              "12783  30691     0         2018-12-04 16:24:07  charliekirk11  "
            ]
          },
          "metadata": {
            "tags": []
          },
          "execution_count": 51
        }
      ]
    }
  ]
}