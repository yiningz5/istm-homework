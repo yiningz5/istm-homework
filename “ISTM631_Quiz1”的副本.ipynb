{
  "nbformat": 4,
  "nbformat_minor": 0,
  "metadata": {
    "colab": {
      "name": "“ISTM631-Quiz1”的副本",
      "provenance": [],
      "collapsed_sections": [],
      "include_colab_link": true
    },
    "kernelspec": {
      "name": "python3",
      "display_name": "Python 3"
    }
  },
  "cells": [
    {
      "cell_type": "markdown",
      "metadata": {
        "id": "view-in-github",
        "colab_type": "text"
      },
      "source": [
        "<a href=\"https://colab.research.google.com/github/yiningz5/istm-homework/blob/main/%E2%80%9CISTM631_Quiz1%E2%80%9D%E7%9A%84%E5%89%AF%E6%9C%AC.ipynb\" target=\"_parent\"><img src=\"https://colab.research.google.com/assets/colab-badge.svg\" alt=\"Open In Colab\"/></a>"
      ]
    },
    {
      "cell_type": "markdown",
      "metadata": {
        "id": "SOAjma4aDae7"
      },
      "source": [
        "Write a program that computes and prints the average of the numbers in a text file. You should make use of two higher-order functions to simplify the design.\n",
        "\n",
        "\n",
        "\n",
        "\n",
        "\n",
        " \n",
        "\n",
        "\n",
        "\n",
        "\n"
      ]
    },
    {
      "cell_type": "markdown",
      "metadata": {
        "id": "ZEth2iEnCcgR"
      },
      "source": [
        "**answer:**"
      ]
    },
    {
      "cell_type": "code",
      "metadata": {
        "id": "ghr1jiBZnyWS"
      },
      "source": [
        "sum=0\n",
        "count=0\n",
        "file=open(\"file.txt\",\"r\")\n",
        "for line in file:\n",
        "  word=line.split()\n",
        "  for w in word:\n",
        "      m=int(w)\n",
        "      sum+=m\n",
        "      count+=1\n",
        "\n",
        "print(\"the average is\", sum/count)"
      ],
      "execution_count": null,
      "outputs": []
    },
    {
      "cell_type": "markdown",
      "metadata": {
        "id": "E4jrxT8IDk4c"
      },
      "source": [
        "\n",
        "Explain what happens when the following recursive function is called with the values \"hello\" and 0 as arguments:\n",
        "\n",
        "def example(aString, index):\n",
        "\n",
        "if index == len(aString):         \n",
        "\n",
        "return \"\"\n",
        "\n",
        "else:\n",
        "\n",
        "return aString[index] + example(aString, index + 1)"
      ]
    },
    {
      "cell_type": "markdown",
      "metadata": {
        "id": "HO8XpGV-FCJh"
      },
      "source": [
        "**Answer:** \n",
        "The function is used for going through a set of strings and return each character in its index order.\n",
        "For example, if we enter \"hello\" in the function, in the first iteration, the function would return the string\"h\"(which is the index 0). Then the iteration would continue until it reaches the last character of the string, and it would return blanks in the end. So if we print out the function, it would be would be \"h\"\"e\"\"l\"\"l\"\"o\" .\n"
      ]
    },
    {
      "cell_type": "markdown",
      "metadata": {
        "id": "8eJtQtMjDsg4"
      },
      "source": [
        "The log2 of a given number N is given by M in the equation N = 2^M. Using integer arithmetic, the value of M is approximately equal to the number of times N can be evenly divided by 2 until it becomes 0. Write a loop that computes this approximation of the log2 of a given number N. You can check your code by importing the math.log function and evaluating the expression round(math.log(N, 2)) (note that the math.log function returns a floating-point value).\n"
      ]
    },
    {
      "cell_type": "markdown",
      "metadata": {
        "id": "QO78N_77LMYV"
      },
      "source": [
        "**answer:**"
      ]
    },
    {
      "cell_type": "code",
      "metadata": {
        "id": "U0ldQNO_-fE1"
      },
      "source": [
        "n=int(input(\"enter a number n: \"))\n",
        "import numpy as np\n",
        "m=np.log2(n)\n",
        "count=0\n",
        "s=float(format(m,'.2f'))\n",
        "if s-int(m) >0.5:\n",
        "  count=int(m)+1\n",
        "else:\n",
        "  count=int(m)\n",
        "\n",
        "print(count)"
      ],
      "execution_count": null,
      "outputs": []
    },
    {
      "cell_type": "markdown",
      "metadata": {
        "id": "mPa-4D2bDtfQ"
      },
      "source": [
        "Write a program that accepts the lengths of three sides of a triangle as inputs. The program output should indicate whether or not the triangle is an equilateral triangle. "
      ]
    },
    {
      "cell_type": "markdown",
      "metadata": {
        "id": "1oSMHJoE9TR2"
      },
      "source": [
        "**answer:**"
      ]
    },
    {
      "cell_type": "code",
      "metadata": {
        "id": "b8keawNT7_hu"
      },
      "source": [
        "x=int(input(\"enter the length of first side: \"))\n",
        "y=int(input(\"enter the length of second side: \"))\n",
        "z=int(input(\"enter the length of third side: \"))\n",
        "\n",
        "def triangle():\n",
        "  if x+y>z or x+z>y or y+z>x:\n",
        "    if x==y or x==z or y==z:\n",
        "      return(\"they are equilateral triangle\")\n",
        "    else:return(\"they are not equilateral triangle\")\n",
        "  else:return(\"they cannot be triangle\")\n",
        "\n",
        "print(triangle())"
      ],
      "execution_count": null,
      "outputs": []
    }
  ]
}