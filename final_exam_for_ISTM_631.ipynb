{
  "nbformat": 4,
  "nbformat_minor": 0,
  "metadata": {
    "colab": {
      "name": "final exam for ISTM 631.ipynb",
      "provenance": [],
      "collapsed_sections": [],
      "authorship_tag": "ABX9TyMMlcxPTG4l6Cz9GqlnHjcT",
      "include_colab_link": true
    },
    "kernelspec": {
      "name": "python3",
      "display_name": "Python 3"
    }
  },
  "cells": [
    {
      "cell_type": "markdown",
      "metadata": {
        "id": "view-in-github",
        "colab_type": "text"
      },
      "source": [
        "<a href=\"https://colab.research.google.com/github/yiningz5/istm-homework/blob/main/final_exam_for_ISTM_631.ipynb\" target=\"_parent\"><img src=\"https://colab.research.google.com/assets/colab-badge.svg\" alt=\"Open In Colab\"/></a>"
      ]
    },
    {
      "cell_type": "markdown",
      "metadata": {
        "id": "gv4JA0SyfG58"
      },
      "source": [
        "Write and test a program that accepts the user’s name (as text) and age (as a number) as input. The program should output how many characters are in the user’s name and age."
      ]
    },
    {
      "cell_type": "code",
      "metadata": {
        "id": "UsMy_QHKfOy7"
      },
      "source": [
        "test=input(\"enter a name or a number: \")\n",
        "def countnum():\n",
        "  if isinstance(test, str)== True:\n",
        "   return len(test)\n",
        "  if isinstance(test,int)== True:\n",
        "   return len(str(test))\n",
        "  else:\n",
        "    return (\"it's not valid\")\n",
        "\n",
        "print(countnum())"
      ],
      "execution_count": null,
      "outputs": []
    },
    {
      "cell_type": "markdown",
      "metadata": {
        "id": "Wbq1-x3agmlh"
      },
      "source": [
        "Enter an input statement using the input function at the shell prompt. When the prompt asks you for input, enter a number. Then, attempt to add 1 to that number, observe the results, and explain what happened."
      ]
    },
    {
      "cell_type": "code",
      "metadata": {
        "id": "ISATRbHzQrur"
      },
      "source": [
        "x=input(\"enter a number: \")\n",
        "y=int(x)+1\n",
        "print(y)"
      ],
      "execution_count": null,
      "outputs": []
    },
    {
      "cell_type": "markdown",
      "metadata": {
        "id": "2xXAIhJ9VEBg"
      },
      "source": [
        "First, we use input function to assign the entered value to x. But, when you input the value, it would treat the variable as a string variable. Therefore, we need to convert it into integer type and do the calculation."
      ]
    },
    {
      "cell_type": "markdown",
      "metadata": {
        "id": "675bSN7egprp"
      },
      "source": [
        "Write a program that calculates and prints the number of minutes in a year.\n"
      ]
    },
    {
      "cell_type": "code",
      "metadata": {
        "id": "6oik7FLdcu3S"
      },
      "source": [
        "minperhour=60\n",
        "hourperday=24\n",
        "dayperyear=365\n",
        "x=minperhour*hourperday*dayperyear\n",
        "print(x)"
      ],
      "execution_count": null,
      "outputs": []
    },
    {
      "cell_type": "markdown",
      "metadata": {
        "id": "fVhzHVuNgvDd"
      },
      "source": [
        "An employee’s total weekly pay equals the hourly wage multiplied by the total number of regular hours plus any overtime pay. Overtime pay equals the total overtime hours multiplied by 1.5 times the hourly wage. Write a program that takes as inputs the hourly wage, total regular hours, and total overtime hours and displays an employee’s total weekly pay."
      ]
    },
    {
      "cell_type": "code",
      "metadata": {
        "id": "T5uGJ3n0e06y"
      },
      "source": [
        "hrwage=int(input(\"enter the hourly wage: \"))\n",
        "reghr=int(input(\"enter the total regular hours: \"))\n",
        "overhr=int(input(\"enter the total overtime hours: \"))\n",
        "def weeklypay():\n",
        "  return hrwage*reghr+overhr*1.5*hrwage\n",
        "print(\"the total weekly pay is\", weeklypay(),\"dollars\")"
      ],
      "execution_count": null,
      "outputs": []
    },
    {
      "cell_type": "markdown",
      "metadata": {
        "id": "z8Zd9lDgg19l"
      },
      "source": [
        "Write a program that receives a series of numbers from the user and allows the user to press the enter key to indicate that he or she is finished providing inputs. After the user presses the enter key, the program should print the sum of the numbers and their average."
      ]
    },
    {
      "cell_type": "code",
      "metadata": {
        "id": "7bWMr9HpB9Wu"
      },
      "source": [
        "alist = [] \n",
        "str = input(\"enter a set of numbers and use space to separate each one: \")\n",
        "lst = str.split(\" \")\n",
        "i = 0\n",
        "while i <= len(lst)+1:\n",
        " alist.append(int(lst.pop()))\n",
        " i += 1\n",
        "def sum(list):\n",
        " s = 0\n",
        " for x in list:\n",
        "  s += x\n",
        " return s\n",
        "def average(list):\n",
        " avg = 0\n",
        " avg = sum(list)/(len(list)) \n",
        " return avg\n",
        "print(\"the sum is\",sum(alist),\"the average is\",average(alist))"
      ],
      "execution_count": null,
      "outputs": []
    },
    {
      "cell_type": "markdown",
      "metadata": {
        "id": "jYgPjVGdg8iC"
      },
      "source": [
        "In the game of Lucky Sevens, the player rolls a pair of dice. If the dots add up to 7, the player wins 4 dollars; otherwise, the player loses 1 dollar. Suppose that, to entice the gullible, a casino tells players that there are lots of ways to win: (1, 6), (2, 5), and so on. A little mathematical analysis reveals that there are not enough ways to win to make the game worthwhile; however, because many people’s eyes glaze over at the first mention of mathematics, your challenge is to write a program that demonstrates the futility of playing the game. Your program should take as input the amount of money that the player wants to put into the pot, and play the game until the pot is empty. At that point, the program should print the number of rolls it took to break the player, as well as maximum amount of money in the pot.\n",
        "\n"
      ]
    },
    {
      "cell_type": "code",
      "metadata": {
        "id": "6N3hzGnxOLBg"
      },
      "source": [
        "import random\n",
        "x=int(input(\"enter the money you are willing to pay: \"))\n",
        "i=x\n",
        "s=0\n",
        "moneymax=i\n",
        "while i>0:\n",
        "  sum=random.randint(1,6)+random.randint(1,6)\n",
        "  if sum==7:\n",
        "    i+=4\n",
        "    s+=1\n",
        "    moneymax=max(moneymax,i)\n",
        "  else:\n",
        "    i-=1\n",
        "    s+=1\n",
        "    moneymax=max(moneymax,i)\n",
        "print(\"the number of rolls: \",s,\" the maximum amount of money is: \",moneymax)\n"
      ],
      "execution_count": null,
      "outputs": []
    },
    {
      "cell_type": "markdown",
      "metadata": {
        "id": "bO8u-0--N3wa"
      },
      "source": [
        "The Payroll Department keeps a list of employee information for each pay period in a text file. The format of each line of the file is the following:\n",
        "\n",
        "<last name><hourly wage><hours worked>\n",
        "\n",
        "Write a program that inputs a filename from the user and prints to the terminal a report of the wages paid to the employees for the given period. The report should be in tabular format with the appropriate header. Each line should contain an employee’s name, the hours worked, and the wages paid for that period."
      ]
    },
    {
      "cell_type": "code",
      "metadata": {
        "id": "f3-7HNhlM7tn"
      },
      "source": [
        "x=input(\"enter the filename(with extension name:\")\n",
        "with open(x,'r')as f:\n",
        "    print(f.read())"
      ],
      "execution_count": null,
      "outputs": []
    },
    {
      "cell_type": "markdown",
      "metadata": {
        "id": "e1myPHp7hBO-"
      },
      "source": [
        "Write a program that inputs a text file. The program should print the unique words in the file in alphabetical order."
      ]
    },
    {
      "cell_type": "code",
      "metadata": {
        "id": "Vt-WI2F9Z6RP"
      },
      "source": [
        "file=open(\"file.txt\",\"r\")\n",
        "for line in file:\n",
        "  word=line.split()\n",
        "  for w in word:\n",
        "    w=set(w)\n",
        "    w=list(w)\n",
        "    w.sort(reverse=False)\n",
        "  print(w)"
      ],
      "execution_count": null,
      "outputs": []
    },
    {
      "cell_type": "markdown",
      "metadata": {
        "id": "dBk1_8LbhNfM"
      },
      "source": [
        "What is a higher-order function? Write a program that computes and prints the average of the numbers in a text file. You should make use of two higher-order functions to simplify the design."
      ]
    },
    {
      "cell_type": "markdown",
      "metadata": {
        "id": "k1ztFp2hWul0"
      },
      "source": [
        "**answer:** higher-order function is a function that takes functions as argument or return a function as its results."
      ]
    },
    {
      "cell_type": "code",
      "metadata": {
        "id": "11tXqN9AmJf6"
      },
      "source": [
        "lst=[]\n",
        "file=open(\"file.txt\",\"r\")\n",
        "for line in file:\n",
        "  word=line.split()\n",
        "  for w in word:\n",
        "      m=int(w)\n",
        "      lst.append(m)\n",
        "def sum():\n",
        "    total=0\n",
        "    for n in lst:\n",
        "        total+=n\n",
        "    return total\n",
        "def avg():\n",
        "    return sum()/len(lst)\n",
        "print (avg())\n"
      ],
      "execution_count": null,
      "outputs": []
    },
    {
      "cell_type": "markdown",
      "metadata": {
        "id": "ZVIA9C_VhQ82"
      },
      "source": [
        "Define and test a function named posterize. This function expects an image and a tuple of RGB values as arguments. The function modifies the image like the blackAndWhite function, but it uses the given RGB values instead of black. You can learn more about posterization in the following page: https://en.wikipedia.org/wiki/Posterization"
      ]
    },
    {
      "cell_type": "code",
      "metadata": {
        "id": "DESq7kNDLjOj"
      },
      "source": [
        "import imageio\n",
        "import matplotlib.pyplot as plt\n",
        "url=input(\"put the url of the picture here: \")\n",
        "x=int(input(\"enter r value: \"))\n",
        "y=int(input(\"enter g value: \"))\n",
        "z=int(input(\"enter b value: \"))\n",
        "img=imageio.imread(url)\n",
        "plt.figure(figsize=(5,5))\n",
        "plt.imshow(img)\n",
        "\n",
        "def posterize():\n",
        "  return lambda rgb: np.dot(rgb[x,y,z])\n",
        "print (posterize())"
      ],
      "execution_count": null,
      "outputs": []
    }
  ]
}