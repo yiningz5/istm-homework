{
  "nbformat": 4,
  "nbformat_minor": 0,
  "metadata": {
    "colab": {
      "name": "ISTM 631  4th session 11/12/2020.ipynb",
      "provenance": [],
      "include_colab_link": true
    },
    "kernelspec": {
      "name": "python3",
      "display_name": "Python 3"
    }
  },
  "cells": [
    {
      "cell_type": "markdown",
      "metadata": {
        "id": "view-in-github",
        "colab_type": "text"
      },
      "source": [
        "<a href=\"https://colab.research.google.com/github/yiningz5/istm-homework/blob/main/ISTM_631_4th_session_11_12_2020.ipynb\" target=\"_parent\"><img src=\"https://colab.research.google.com/assets/colab-badge.svg\" alt=\"Open In Colab\"/></a>"
      ]
    },
    {
      "cell_type": "code",
      "metadata": {
        "id": "9-wZw3YfK7pV"
      },
      "source": [
        "# Import the libraries\n",
        "\n",
        "import time \n",
        "import sys\n",
        "import numpy as np \n",
        "\n",
        "import matplotlib.pyplot as plt\n",
        "%matplotlib inline "
      ],
      "execution_count": null,
      "outputs": []
    },
    {
      "cell_type": "code",
      "metadata": {
        "id": "ZiNUaIWhfr9i"
      },
      "source": [
        ""
      ],
      "execution_count": null,
      "outputs": []
    },
    {
      "cell_type": "code",
      "metadata": {
        "id": "qEIasstEM81a"
      },
      "source": [
        "# Plotting functions\n",
        "\n",
        "def Plotvec1(u, z, v):\n",
        "    \n",
        "    ax = plt.axes()\n",
        "    ax.arrow(0, 0, *u, head_width=0.05, color='r', head_length=0.1)\n",
        "    plt.text(*(u + 0.1), 'u')\n",
        "    \n",
        "    ax.arrow(0, 0, *v, head_width=0.05, color='b', head_length=0.1)\n",
        "    plt.text(*(v + 0.1), 'v')\n",
        "    ax.arrow(0, 0, *z, head_width=0.05, head_length=0.1)\n",
        "    plt.text(*(z + 0.1), 'z')\n",
        "    plt.ylim(-2, 2)\n",
        "    plt.xlim(-2, 2)\n",
        "\n",
        "def Plotvec2(a,b):\n",
        "    ax = plt.axes()\n",
        "    ax.arrow(0, 0, *a, head_width=0.05, color ='r', head_length=0.1)\n",
        "    plt.text(*(a + 0.1), 'a')\n",
        "    ax.arrow(0, 0, *b, head_width=0.05, color ='b', head_length=0.1)\n",
        "    plt.text(*(b + 0.1), 'b')\n",
        "    plt.ylim(-2, 2)\n",
        "    plt.xlim(-2, 2)"
      ],
      "execution_count": null,
      "outputs": []
    },
    {
      "cell_type": "markdown",
      "metadata": {
        "id": "BCYk7f0MTYO6"
      },
      "source": [
        "Plotvec2(a,b)\n",
        "\n",
        "\n",
        "a.Plotvec2()"
      ]
    },
    {
      "cell_type": "code",
      "metadata": {
        "id": "zWCCAdecNBQy"
      },
      "source": [
        "# Create a python list\n",
        "\n",
        "a = [\"0\", 1, \"two\", \"3\", 4]"
      ],
      "execution_count": null,
      "outputs": []
    },
    {
      "cell_type": "markdown",
      "metadata": {
        "id": "_xm-EvZuNV_4"
      },
      "source": [
        "<img src=\"https://s3-api.us-geo.objectstorage.softlayer.net/cf-courses-data/CognitiveClass/PY0101EN/Chapter%205/Images/NumOneList.png\" width=\"660\" />\n"
      ]
    },
    {
      "cell_type": "code",
      "metadata": {
        "id": "vekHb19LNUke"
      },
      "source": [
        "# import numpy library\n",
        "\n",
        "import numpy as np "
      ],
      "execution_count": null,
      "outputs": []
    },
    {
      "cell_type": "code",
      "metadata": {
        "id": "4fk-7MslNg8d",
        "colab": {
          "base_uri": "https://localhost:8080/"
        },
        "outputId": "677f1ad6-bfb8-4667-cec3-da0314717877"
      },
      "source": [
        "a = np.array([0, 1, 2, 3, 4])\n",
        "a"
      ],
      "execution_count": null,
      "outputs": [
        {
          "output_type": "execute_result",
          "data": {
            "text/plain": [
              "array([0, 1, 2, 3, 4])"
            ]
          },
          "metadata": {
            "tags": []
          },
          "execution_count": 5
        }
      ]
    },
    {
      "cell_type": "code",
      "metadata": {
        "id": "n58otpI0NvyH",
        "colab": {
          "base_uri": "https://localhost:8080/"
        },
        "outputId": "e90ae7a5-3d38-4a23-e34a-fa0066cca3ea"
      },
      "source": [
        "type(a)"
      ],
      "execution_count": null,
      "outputs": [
        {
          "output_type": "execute_result",
          "data": {
            "text/plain": [
              "numpy.ndarray"
            ]
          },
          "metadata": {
            "tags": []
          },
          "execution_count": 6
        }
      ]
    },
    {
      "cell_type": "code",
      "metadata": {
        "id": "WUI40gAeOQeX",
        "colab": {
          "base_uri": "https://localhost:8080/"
        },
        "outputId": "cdaf6198-2d6c-4078-b23c-0f5230af1464"
      },
      "source": [
        "a.dtype"
      ],
      "execution_count": null,
      "outputs": [
        {
          "output_type": "execute_result",
          "data": {
            "text/plain": [
              "dtype('int64')"
            ]
          },
          "metadata": {
            "tags": []
          },
          "execution_count": 7
        }
      ]
    },
    {
      "cell_type": "code",
      "metadata": {
        "id": "i0K2dWBSOkc2"
      },
      "source": [
        "b = np.array([3.1, 11.02, 6.2, 213.2, 5.2])"
      ],
      "execution_count": null,
      "outputs": []
    },
    {
      "cell_type": "code",
      "metadata": {
        "id": "l1YvHT8ROmYi",
        "colab": {
          "base_uri": "https://localhost:8080/"
        },
        "outputId": "dc778a8f-2504-48cc-b7ec-7b12ef39afcc"
      },
      "source": [
        "type(b)"
      ],
      "execution_count": null,
      "outputs": [
        {
          "output_type": "execute_result",
          "data": {
            "text/plain": [
              "numpy.ndarray"
            ]
          },
          "metadata": {
            "tags": []
          },
          "execution_count": 9
        }
      ]
    },
    {
      "cell_type": "code",
      "metadata": {
        "id": "_XhC6T9kOnlA",
        "colab": {
          "base_uri": "https://localhost:8080/"
        },
        "outputId": "72585f94-f3e9-4e5a-bd74-e345ad19bdc9"
      },
      "source": [
        "b.dtype"
      ],
      "execution_count": null,
      "outputs": [
        {
          "output_type": "execute_result",
          "data": {
            "text/plain": [
              "dtype('float64')"
            ]
          },
          "metadata": {
            "tags": []
          },
          "execution_count": 10
        }
      ]
    },
    {
      "cell_type": "code",
      "metadata": {
        "id": "grpP95i7Otav",
        "colab": {
          "base_uri": "https://localhost:8080/"
        },
        "outputId": "13248c40-7714-48c3-ee9e-a01db38b56d7"
      },
      "source": [
        "c = np.array([20, 1, 2, 3, 4])\n",
        "c"
      ],
      "execution_count": null,
      "outputs": [
        {
          "output_type": "execute_result",
          "data": {
            "text/plain": [
              "array([20,  1,  2,  3,  4])"
            ]
          },
          "metadata": {
            "tags": []
          },
          "execution_count": 11
        }
      ]
    },
    {
      "cell_type": "code",
      "metadata": {
        "id": "tyemLfz-OyZT",
        "colab": {
          "base_uri": "https://localhost:8080/"
        },
        "outputId": "52477631-1a79-4f12-aec8-16dc5a1cd7fd"
      },
      "source": [
        "c[0] = 100\n",
        "c"
      ],
      "execution_count": null,
      "outputs": [
        {
          "output_type": "execute_result",
          "data": {
            "text/plain": [
              "array([100,   1,   2,   3,   4])"
            ]
          },
          "metadata": {
            "tags": []
          },
          "execution_count": 12
        }
      ]
    },
    {
      "cell_type": "code",
      "metadata": {
        "id": "ALzTRXJzO8_u",
        "colab": {
          "base_uri": "https://localhost:8080/"
        },
        "outputId": "55ca797f-79c3-477d-9cee-1a117663bec4"
      },
      "source": [
        "c[4] = 0\n",
        "c"
      ],
      "execution_count": null,
      "outputs": [
        {
          "output_type": "execute_result",
          "data": {
            "text/plain": [
              "array([100,   1,   2,   3,   0])"
            ]
          },
          "metadata": {
            "tags": []
          },
          "execution_count": 13
        }
      ]
    },
    {
      "cell_type": "code",
      "metadata": {
        "id": "U645kcxHO_vY",
        "colab": {
          "base_uri": "https://localhost:8080/"
        },
        "outputId": "3d8d7962-4541-4004-b6a5-f5e82145e551"
      },
      "source": [
        "d = c[1:4]\n",
        "d"
      ],
      "execution_count": null,
      "outputs": [
        {
          "output_type": "execute_result",
          "data": {
            "text/plain": [
              "array([1, 2, 3])"
            ]
          },
          "metadata": {
            "tags": []
          },
          "execution_count": 14
        }
      ]
    },
    {
      "cell_type": "markdown",
      "metadata": {
        "id": "yEKZeG9iPGsT"
      },
      "source": [
        "space complexity and time complexity"
      ]
    },
    {
      "cell_type": "code",
      "metadata": {
        "id": "7JWkoD-APKE5"
      },
      "source": [
        ""
      ],
      "execution_count": null,
      "outputs": []
    },
    {
      "cell_type": "markdown",
      "metadata": {
        "id": "xP3-UDg4PSmp"
      },
      "source": [
        "**homework1**\n",
        "\n",
        "text = 'I am Arash'\n",
        "\n",
        "text2 = 'AaarshIm'\n",
        "\n",
        "\n",
        "write a program that finds meaningfull words out of the scrampbled sentence.\n",
        "and you have a helper function that tells you, if the string is an english word or not.\n",
        "\n",
        "* HF('Arash') --> True\n",
        "* HF('ttt') --> False"
      ]
    },
    {
      "cell_type": "code",
      "metadata": {
        "id": "8d6jefYqQ9GL"
      },
      "source": [
        "import math"
      ],
      "execution_count": null,
      "outputs": []
    },
    {
      "cell_type": "code",
      "metadata": {
        "id": "5c-VRgBQT1MB",
        "colab": {
          "base_uri": "https://localhost:8080/"
        },
        "outputId": "caf1ea34-c85e-4751-9f9b-dcdf60ed4f75"
      },
      "source": [
        "math.sqrt(12)"
      ],
      "execution_count": null,
      "outputs": [
        {
          "output_type": "execute_result",
          "data": {
            "text/plain": [
              "3.4641016151377544"
            ]
          },
          "metadata": {
            "tags": []
          },
          "execution_count": 26
        }
      ]
    },
    {
      "cell_type": "code",
      "metadata": {
        "id": "W7tQzb70Qsne",
        "colab": {
          "base_uri": "https://localhost:8080/"
        },
        "outputId": "49e20d8f-3300-44dc-b689-d93e2d1ce998"
      },
      "source": [
        "problemSize = 10000000 \n",
        "print(\"Problem Size\", \"Seconds\")\n",
        "for count in range(5):\n",
        "  start = time.time()\n",
        "# The start of the algorithm\n",
        "  work = 1  \n",
        "  for x in range(problemSize):\n",
        "    work += 1\n",
        "    work -= 1\n",
        "# The end of the algorithm\n",
        "  elapsed = time.time() - start\n",
        "  print(\"%12d%16.3f\" % (problemSize, elapsed)) \n",
        "  problemSize *= 2"
      ],
      "execution_count": null,
      "outputs": [
        {
          "output_type": "stream",
          "text": [
            "Problem Size Seconds\n",
            "    10000000           1.504\n",
            "    20000000           3.075\n",
            "    40000000           6.005\n",
            "    80000000          12.021\n",
            "   160000000          23.980\n"
          ],
          "name": "stdout"
        }
      ]
    },
    {
      "cell_type": "code",
      "metadata": {
        "id": "hLmdFd94S1Zc",
        "colab": {
          "base_uri": "https://localhost:8080/"
        },
        "outputId": "4fc508be-0aa4-4b1d-9b85-2b7d52e4e623"
      },
      "source": [
        "print(time.time())"
      ],
      "execution_count": null,
      "outputs": [
        {
          "output_type": "stream",
          "text": [
            "1605198664.0668716\n"
          ],
          "name": "stdout"
        }
      ]
    },
    {
      "cell_type": "code",
      "metadata": {
        "id": "CahFcKazTm53",
        "colab": {
          "base_uri": "https://localhost:8080/"
        },
        "outputId": "584d5445-d428-41bc-c54c-55d771dcecd3"
      },
      "source": [
        "c[3:5] = 300, 400\n",
        "c"
      ],
      "execution_count": null,
      "outputs": [
        {
          "output_type": "execute_result",
          "data": {
            "text/plain": [
              "array([100,   1,   2, 300, 400])"
            ]
          },
          "metadata": {
            "tags": []
          },
          "execution_count": 27
        }
      ]
    },
    {
      "cell_type": "code",
      "metadata": {
        "id": "_nlH376RUXKx"
      },
      "source": [
        "# Create the index list\n",
        "\n",
        "select = [0, 2, 3]"
      ],
      "execution_count": null,
      "outputs": []
    },
    {
      "cell_type": "code",
      "metadata": {
        "id": "ySYr0MRTUZJY",
        "colab": {
          "base_uri": "https://localhost:8080/"
        },
        "outputId": "d4242131-6b62-447d-e7fd-8d999fea4872"
      },
      "source": [
        "d = c[select]\n",
        "d"
      ],
      "execution_count": null,
      "outputs": [
        {
          "output_type": "execute_result",
          "data": {
            "text/plain": [
              "array([100,   2, 300])"
            ]
          },
          "metadata": {
            "tags": []
          },
          "execution_count": 29
        }
      ]
    },
    {
      "cell_type": "code",
      "metadata": {
        "id": "KewwJ3HcUimk",
        "colab": {
          "base_uri": "https://localhost:8080/"
        },
        "outputId": "1ed1e9f2-9a2c-438e-8ace-92073dffba3f"
      },
      "source": [
        "c[select] = 100000\n",
        "c"
      ],
      "execution_count": null,
      "outputs": [
        {
          "output_type": "execute_result",
          "data": {
            "text/plain": [
              "array([100000,      1, 100000, 100000,    400])"
            ]
          },
          "metadata": {
            "tags": []
          },
          "execution_count": 30
        }
      ]
    },
    {
      "cell_type": "code",
      "metadata": {
        "id": "3q8uPQgAUn0M",
        "colab": {
          "base_uri": "https://localhost:8080/"
        },
        "outputId": "fdfbd955-2558-4873-ade6-6234f14bedbb"
      },
      "source": [
        "a = np.array([0, 1, 2, 3, 4])\n",
        "a"
      ],
      "execution_count": null,
      "outputs": [
        {
          "output_type": "execute_result",
          "data": {
            "text/plain": [
              "array([0, 1, 2, 3, 4])"
            ]
          },
          "metadata": {
            "tags": []
          },
          "execution_count": 31
        }
      ]
    },
    {
      "cell_type": "code",
      "metadata": {
        "id": "RrfE_sFDUocI",
        "colab": {
          "base_uri": "https://localhost:8080/"
        },
        "outputId": "510fecde-9487-489b-c40b-95c8b361ee1f"
      },
      "source": [
        "a.size"
      ],
      "execution_count": null,
      "outputs": [
        {
          "output_type": "execute_result",
          "data": {
            "text/plain": [
              "5"
            ]
          },
          "metadata": {
            "tags": []
          },
          "execution_count": 32
        }
      ]
    },
    {
      "cell_type": "code",
      "metadata": {
        "id": "rQJhsLEVUsS8",
        "colab": {
          "base_uri": "https://localhost:8080/"
        },
        "outputId": "ae4790e3-b9d2-4734-8586-0e053e74e037"
      },
      "source": [
        "len(a)"
      ],
      "execution_count": null,
      "outputs": [
        {
          "output_type": "execute_result",
          "data": {
            "text/plain": [
              "5"
            ]
          },
          "metadata": {
            "tags": []
          },
          "execution_count": 33
        }
      ]
    },
    {
      "cell_type": "code",
      "metadata": {
        "id": "8OSOge0MU5CI",
        "colab": {
          "base_uri": "https://localhost:8080/"
        },
        "outputId": "bc094814-b99b-47d7-b07a-fb90a61f944e"
      },
      "source": [
        "a.ndim"
      ],
      "execution_count": null,
      "outputs": [
        {
          "output_type": "execute_result",
          "data": {
            "text/plain": [
              "1"
            ]
          },
          "metadata": {
            "tags": []
          },
          "execution_count": 34
        }
      ]
    },
    {
      "cell_type": "code",
      "metadata": {
        "id": "sWoKWRqBU9IE",
        "colab": {
          "base_uri": "https://localhost:8080/"
        },
        "outputId": "ca8359a8-86ba-4f91-c690-1e1353470758"
      },
      "source": [
        "a.shape"
      ],
      "execution_count": null,
      "outputs": [
        {
          "output_type": "execute_result",
          "data": {
            "text/plain": [
              "(5,)"
            ]
          },
          "metadata": {
            "tags": []
          },
          "execution_count": 35
        }
      ]
    },
    {
      "cell_type": "code",
      "metadata": {
        "id": "H80VyfGZVA_q"
      },
      "source": [
        "a = np.array([1, -1, 1, -1])"
      ],
      "execution_count": null,
      "outputs": []
    },
    {
      "cell_type": "code",
      "metadata": {
        "id": "_3QYkritVBfT",
        "colab": {
          "base_uri": "https://localhost:8080/"
        },
        "outputId": "0aecadd7-8a04-4733-d332-389e7c77215d"
      },
      "source": [
        "mean = a.mean()\n",
        "mean \n"
      ],
      "execution_count": null,
      "outputs": [
        {
          "output_type": "execute_result",
          "data": {
            "text/plain": [
              "0.0"
            ]
          },
          "metadata": {
            "tags": []
          },
          "execution_count": 37
        }
      ]
    },
    {
      "cell_type": "markdown",
      "metadata": {
        "id": "a3xoFs18VHlt"
      },
      "source": [
        ".mean() is a method"
      ]
    },
    {
      "cell_type": "code",
      "metadata": {
        "id": "_kN-TQnRVOId",
        "colab": {
          "base_uri": "https://localhost:8080/"
        },
        "outputId": "4b4a5794-120f-4155-8133-0cae52e098d4"
      },
      "source": [
        "standard_deviation=a.std()\n",
        "standard_deviation"
      ],
      "execution_count": null,
      "outputs": [
        {
          "output_type": "execute_result",
          "data": {
            "text/plain": [
              "1.0"
            ]
          },
          "metadata": {
            "tags": []
          },
          "execution_count": 38
        }
      ]
    },
    {
      "cell_type": "code",
      "metadata": {
        "id": "TqXWQV0uVTWq",
        "colab": {
          "base_uri": "https://localhost:8080/"
        },
        "outputId": "cbcd780c-9478-4871-9345-f00d5d4e4a9d"
      },
      "source": [
        "b = np.array([-1, 2, 3, 4, 5])\n",
        "b"
      ],
      "execution_count": null,
      "outputs": [
        {
          "output_type": "execute_result",
          "data": {
            "text/plain": [
              "array([-1,  2,  3,  4,  5])"
            ]
          },
          "metadata": {
            "tags": []
          },
          "execution_count": 39
        }
      ]
    },
    {
      "cell_type": "code",
      "metadata": {
        "id": "Bo0EkIO1VVvV",
        "colab": {
          "base_uri": "https://localhost:8080/"
        },
        "outputId": "df304acb-fe73-4b10-f907-5de6a3510de7"
      },
      "source": [
        "max_b = b.max()\n",
        "max_b"
      ],
      "execution_count": null,
      "outputs": [
        {
          "output_type": "execute_result",
          "data": {
            "text/plain": [
              "5"
            ]
          },
          "metadata": {
            "tags": []
          },
          "execution_count": 40
        }
      ]
    },
    {
      "cell_type": "code",
      "metadata": {
        "id": "F6BL07e3VWqh"
      },
      "source": [
        "min_B = b.mean()"
      ],
      "execution_count": null,
      "outputs": []
    },
    {
      "cell_type": "code",
      "metadata": {
        "id": "dUxsNZucVeWH",
        "colab": {
          "base_uri": "https://localhost:8080/"
        },
        "outputId": "f3318553-5e82-4bde-8575-a2629abbd217"
      },
      "source": [
        "u = np.array([1, 0])\n",
        "u"
      ],
      "execution_count": null,
      "outputs": [
        {
          "output_type": "execute_result",
          "data": {
            "text/plain": [
              "array([1, 0])"
            ]
          },
          "metadata": {
            "tags": []
          },
          "execution_count": 42
        }
      ]
    },
    {
      "cell_type": "code",
      "metadata": {
        "id": "w9LiEItJVgzW",
        "colab": {
          "base_uri": "https://localhost:8080/"
        },
        "outputId": "abe6338c-f34f-4fc0-804d-95930f591471"
      },
      "source": [
        "v = np.array([0, 1])\n",
        "v"
      ],
      "execution_count": null,
      "outputs": [
        {
          "output_type": "execute_result",
          "data": {
            "text/plain": [
              "array([0, 1])"
            ]
          },
          "metadata": {
            "tags": []
          },
          "execution_count": 43
        }
      ]
    },
    {
      "cell_type": "code",
      "metadata": {
        "id": "a5fyWPHwVheZ",
        "colab": {
          "base_uri": "https://localhost:8080/"
        },
        "outputId": "1097bf0e-74cc-4d09-ba4b-fd6e4f418dc9"
      },
      "source": [
        "z = u + v\n",
        "z"
      ],
      "execution_count": null,
      "outputs": [
        {
          "output_type": "execute_result",
          "data": {
            "text/plain": [
              "array([1, 1])"
            ]
          },
          "metadata": {
            "tags": []
          },
          "execution_count": 44
        }
      ]
    },
    {
      "cell_type": "code",
      "metadata": {
        "id": "_jOvJ-q5V8zo",
        "colab": {
          "base_uri": "https://localhost:8080/",
          "height": 269
        },
        "outputId": "199c488c-8615-4c49-97d0-dde2482b2629"
      },
      "source": [
        "Plotvec1(u, z, v)"
      ],
      "execution_count": null,
      "outputs": [
        {
          "output_type": "display_data",
          "data": {
            "image/png": "[encoded data removed]",
            "text/plain": [
              "<Figure size 432x288 with 1 Axes>"
            ]
          },
          "metadata": {
            "tags": [],
            "needs_background": "light"
          }
        }
      ]
    },
    {
      "cell_type": "markdown",
      "metadata": {
        "id": "OxEtXIWDWBPp"
      },
      "source": [
        "vector"
      ]
    },
    {
      "cell_type": "code",
      "metadata": {
        "id": "vrXzZI7WWK4u",
        "colab": {
          "base_uri": "https://localhost:8080/"
        },
        "outputId": "f33ec600-9b02-4823-d01d-9aae3a1cd200"
      },
      "source": [
        "y = np.array([1, 2])\n",
        "y"
      ],
      "execution_count": null,
      "outputs": [
        {
          "output_type": "execute_result",
          "data": {
            "text/plain": [
              "array([1, 2])"
            ]
          },
          "metadata": {
            "tags": []
          },
          "execution_count": 46
        }
      ]
    },
    {
      "cell_type": "code",
      "metadata": {
        "id": "dFoWD6SzWMQR",
        "colab": {
          "base_uri": "https://localhost:8080/"
        },
        "outputId": "4b22cade-5ef3-47f0-df00-69ca478065f8"
      },
      "source": [
        "z = 2*y\n",
        "z"
      ],
      "execution_count": null,
      "outputs": [
        {
          "output_type": "execute_result",
          "data": {
            "text/plain": [
              "array([2, 4])"
            ]
          },
          "metadata": {
            "tags": []
          },
          "execution_count": 47
        }
      ]
    },
    {
      "cell_type": "code",
      "metadata": {
        "id": "msnvvGVWWUOY",
        "colab": {
          "base_uri": "https://localhost:8080/"
        },
        "outputId": "12f65fe6-6f04-4425-cf67-91496f841d60"
      },
      "source": [
        "u = np.array([1, 2])\n",
        "u"
      ],
      "execution_count": null,
      "outputs": [
        {
          "output_type": "execute_result",
          "data": {
            "text/plain": [
              "array([1, 2])"
            ]
          },
          "metadata": {
            "tags": []
          },
          "execution_count": 48
        }
      ]
    },
    {
      "cell_type": "code",
      "metadata": {
        "id": "VFwslp5RWWoL",
        "colab": {
          "base_uri": "https://localhost:8080/"
        },
        "outputId": "189427e4-c15a-488f-cb0e-19e2f299c79d"
      },
      "source": [
        "v = np.array([3, 2])\n",
        "v"
      ],
      "execution_count": null,
      "outputs": [
        {
          "output_type": "execute_result",
          "data": {
            "text/plain": [
              "array([3, 2])"
            ]
          },
          "metadata": {
            "tags": []
          },
          "execution_count": 49
        }
      ]
    },
    {
      "cell_type": "code",
      "metadata": {
        "id": "6fP-oNqqWbE3",
        "colab": {
          "base_uri": "https://localhost:8080/"
        },
        "outputId": "3e08fa14-d8c9-449d-aa79-13ce9b22b6ef"
      },
      "source": [
        "z = u * v\n",
        "z"
      ],
      "execution_count": null,
      "outputs": [
        {
          "output_type": "execute_result",
          "data": {
            "text/plain": [
              "array([3, 4])"
            ]
          },
          "metadata": {
            "tags": []
          },
          "execution_count": 50
        }
      ]
    },
    {
      "cell_type": "code",
      "metadata": {
        "id": "5GnfIFCJWfzN",
        "colab": {
          "base_uri": "https://localhost:8080/"
        },
        "outputId": "27db44bd-0b30-4942-aaba-c7674117135c"
      },
      "source": [
        "# Calculate the dot product\n",
        "\n",
        "np.dot(u, v)"
      ],
      "execution_count": null,
      "outputs": [
        {
          "output_type": "execute_result",
          "data": {
            "text/plain": [
              "7"
            ]
          },
          "metadata": {
            "tags": []
          },
          "execution_count": 51
        }
      ]
    },
    {
      "cell_type": "code",
      "metadata": {
        "id": "ROI1VhWuWtmd",
        "colab": {
          "base_uri": "https://localhost:8080/"
        },
        "outputId": "9cb5ab11-d081-4a9b-ebe1-6b3b8a305704"
      },
      "source": [
        "u = np.array([1, 2, 3, -1]) \n",
        "u"
      ],
      "execution_count": null,
      "outputs": [
        {
          "output_type": "execute_result",
          "data": {
            "text/plain": [
              "array([ 1,  2,  3, -1])"
            ]
          },
          "metadata": {
            "tags": []
          },
          "execution_count": 52
        }
      ]
    },
    {
      "cell_type": "code",
      "metadata": {
        "id": "RybZCQISWyaJ",
        "colab": {
          "base_uri": "https://localhost:8080/"
        },
        "outputId": "0ee549a1-e2ed-427f-da53-176060171200"
      },
      "source": [
        "# Add the constant to array\n",
        "\n",
        "u + 1"
      ],
      "execution_count": null,
      "outputs": [
        {
          "output_type": "execute_result",
          "data": {
            "text/plain": [
              "array([2, 3, 4, 0])"
            ]
          },
          "metadata": {
            "tags": []
          },
          "execution_count": 53
        }
      ]
    },
    {
      "cell_type": "code",
      "metadata": {
        "id": "0X3udADEW3sc",
        "colab": {
          "base_uri": "https://localhost:8080/"
        },
        "outputId": "71e990a9-a5c4-4676-d877-5ec6e0b9bce3"
      },
      "source": [
        "np.pi"
      ],
      "execution_count": null,
      "outputs": [
        {
          "output_type": "execute_result",
          "data": {
            "text/plain": [
              "3.141592653589793"
            ]
          },
          "metadata": {
            "tags": []
          },
          "execution_count": 54
        }
      ]
    },
    {
      "cell_type": "code",
      "metadata": {
        "id": "kzYr2hvSW_jY"
      },
      "source": [
        "#create the numpy array in radians\n",
        "x = np.array([0, np.pi/2 , np.pi])"
      ],
      "execution_count": null,
      "outputs": []
    },
    {
      "cell_type": "code",
      "metadata": {
        "id": "1CNDHEP8XTZd",
        "colab": {
          "base_uri": "https://localhost:8080/"
        },
        "outputId": "d070a06a-a51e-490d-804b-a7a8527e75af"
      },
      "source": [
        "y = np.sin(x)\n",
        "y"
      ],
      "execution_count": null,
      "outputs": [
        {
          "output_type": "execute_result",
          "data": {
            "text/plain": [
              "array([0.0000000e+00, 1.0000000e+00, 1.2246468e-16])"
            ]
          },
          "metadata": {
            "tags": []
          },
          "execution_count": 56
        }
      ]
    },
    {
      "cell_type": "markdown",
      "metadata": {
        "id": "JEs-cHOgXcK-"
      },
      "source": [
        "180° × π/180 = 3.142rad\n"
      ]
    },
    {
      "cell_type": "code",
      "metadata": {
        "id": "2m8DZciMXoyp",
        "colab": {
          "base_uri": "https://localhost:8080/"
        },
        "outputId": "899b95e5-a47b-4631-c310-d7dcda96aa32"
      },
      "source": [
        "# Makeup a numpy array within [-2, 2] and 5 elements\n",
        "\n",
        "np.linspace(-2, 2, num=5)"
      ],
      "execution_count": null,
      "outputs": [
        {
          "output_type": "execute_result",
          "data": {
            "text/plain": [
              "array([-2., -1.,  0.,  1.,  2.])"
            ]
          },
          "metadata": {
            "tags": []
          },
          "execution_count": 57
        }
      ]
    },
    {
      "cell_type": "code",
      "metadata": {
        "id": "jO2K2tDsYH4F",
        "colab": {
          "base_uri": "https://localhost:8080/"
        },
        "outputId": "3d663fd0-5520-4cd1-d32e-48d925f05376"
      },
      "source": [
        "np.linspace(-2, 2, num=9)"
      ],
      "execution_count": null,
      "outputs": [
        {
          "output_type": "execute_result",
          "data": {
            "text/plain": [
              "array([-2. , -1.5, -1. , -0.5,  0. ,  0.5,  1. ,  1.5,  2. ])"
            ]
          },
          "metadata": {
            "tags": []
          },
          "execution_count": 58
        }
      ]
    },
    {
      "cell_type": "code",
      "metadata": {
        "id": "rHMDdzW-YLr0"
      },
      "source": [
        "x = np.linspace(0, 2*np.pi, num=100)"
      ],
      "execution_count": null,
      "outputs": []
    },
    {
      "cell_type": "code",
      "metadata": {
        "id": "0utunqGmYOUz"
      },
      "source": [
        "y = np.sin(x)"
      ],
      "execution_count": null,
      "outputs": []
    },
    {
      "cell_type": "code",
      "metadata": {
        "id": "laBwtV8JYRkp",
        "colab": {
          "base_uri": "https://localhost:8080/",
          "height": 282
        },
        "outputId": "5951636e-d263-42f6-f16d-437f0c287900"
      },
      "source": [
        "plt.plot(x, y)"
      ],
      "execution_count": null,
      "outputs": [
        {
          "output_type": "execute_result",
          "data": {
            "text/plain": [
              "[<matplotlib.lines.Line2D at 0x7f39af4b0ba8>]"
            ]
          },
          "metadata": {
            "tags": []
          },
          "execution_count": 61
        },
        {
          "output_type": "display_data",
          "data": {
            "image/png": "[encoded data removed]",
            "text/plain": [
              "<Figure size 432x288 with 1 Axes>"
            ]
          },
          "metadata": {
            "tags": [],
            "needs_background": "light"
          }
        }
      ]
    },
    {
      "cell_type": "code",
      "metadata": {
        "id": "5mriLNolYpJV",
        "colab": {
          "base_uri": "https://localhost:8080/"
        },
        "outputId": "b8646654-72cb-4392-f4bf-aec35a72bcf1"
      },
      "source": [
        "a = [[11, 12, 13], [21, 22, 23], [31, 32, 33]]\n",
        "a"
      ],
      "execution_count": null,
      "outputs": [
        {
          "output_type": "execute_result",
          "data": {
            "text/plain": [
              "[[11, 12, 13], [21, 22, 23], [31, 32, 33]]"
            ]
          },
          "metadata": {
            "tags": []
          },
          "execution_count": 62
        }
      ]
    },
    {
      "cell_type": "code",
      "metadata": {
        "id": "3lWnNCFlYvqn",
        "colab": {
          "base_uri": "https://localhost:8080/"
        },
        "outputId": "483d0870-b7e8-4fb1-d52b-bab45de0d027"
      },
      "source": [
        "A = np.array(a)\n",
        "A"
      ],
      "execution_count": null,
      "outputs": [
        {
          "output_type": "execute_result",
          "data": {
            "text/plain": [
              "array([[11, 12, 13],\n",
              "       [21, 22, 23],\n",
              "       [31, 32, 33]])"
            ]
          },
          "metadata": {
            "tags": []
          },
          "execution_count": 63
        }
      ]
    },
    {
      "cell_type": "code",
      "metadata": {
        "id": "raCk2ryIY0Sq",
        "colab": {
          "base_uri": "https://localhost:8080/"
        },
        "outputId": "d1bf6d37-e8f0-4af7-885b-34379adbc7c8"
      },
      "source": [
        "A.ndim"
      ],
      "execution_count": null,
      "outputs": [
        {
          "output_type": "execute_result",
          "data": {
            "text/plain": [
              "2"
            ]
          },
          "metadata": {
            "tags": []
          },
          "execution_count": 64
        }
      ]
    },
    {
      "cell_type": "code",
      "metadata": {
        "id": "vpQF4ItRY3R-",
        "colab": {
          "base_uri": "https://localhost:8080/"
        },
        "outputId": "f01a14e7-f9c7-42ab-e434-96ad6d2dc15b"
      },
      "source": [
        "A.shape"
      ],
      "execution_count": null,
      "outputs": [
        {
          "output_type": "execute_result",
          "data": {
            "text/plain": [
              "(3, 3)"
            ]
          },
          "metadata": {
            "tags": []
          },
          "execution_count": 65
        }
      ]
    },
    {
      "cell_type": "code",
      "metadata": {
        "id": "rTIFnuFMY591",
        "colab": {
          "base_uri": "https://localhost:8080/"
        },
        "outputId": "6244f6cf-d85e-40cd-ed2c-c8c2653214ff"
      },
      "source": [
        "A.size"
      ],
      "execution_count": null,
      "outputs": [
        {
          "output_type": "execute_result",
          "data": {
            "text/plain": [
              "9"
            ]
          },
          "metadata": {
            "tags": []
          },
          "execution_count": 66
        }
      ]
    },
    {
      "cell_type": "code",
      "metadata": {
        "id": "Zw6j2sUmY8mc",
        "colab": {
          "base_uri": "https://localhost:8080/"
        },
        "outputId": "278638d6-7042-40e2-b609-fa23874ea497"
      },
      "source": [
        "print(A[0])"
      ],
      "execution_count": null,
      "outputs": [
        {
          "output_type": "stream",
          "text": [
            "[11 12 13]\n"
          ],
          "name": "stdout"
        }
      ]
    },
    {
      "cell_type": "markdown",
      "metadata": {
        "id": "c0GPGxqCZMMt"
      },
      "source": [
        "<img src=\"https://s3-api.us-geo.objectstorage.softlayer.net/cf-courses-data/CognitiveClass/PY0101EN/Chapter%205/Images/NumTwoEg.png\" width=\"500\" />"
      ]
    },
    {
      "cell_type": "markdown",
      "metadata": {
        "id": "SxkiXxmFZTSu"
      },
      "source": [
        "<img src=\"https://s3-api.us-geo.objectstorage.softlayer.net/cf-courses-data/CognitiveClass/PY0101EN/Chapter%205/Images/NumTwoFT.png\" width=\"400\" />"
      ]
    },
    {
      "cell_type": "code",
      "metadata": {
        "id": "f1qXb-KFZSWK",
        "colab": {
          "base_uri": "https://localhost:8080/"
        },
        "outputId": "8c3acdc7-196e-4fc8-e461-f5aded0893ab"
      },
      "source": [
        "A[1,2]"
      ],
      "execution_count": null,
      "outputs": [
        {
          "output_type": "execute_result",
          "data": {
            "text/plain": [
              "23"
            ]
          },
          "metadata": {
            "tags": []
          },
          "execution_count": 70
        }
      ]
    },
    {
      "cell_type": "code",
      "metadata": {
        "id": "TAt9SA9sZa6G",
        "colab": {
          "base_uri": "https://localhost:8080/"
        },
        "outputId": "82803662-5293-43d0-824a-e5ac0ce13a17"
      },
      "source": [
        "A[1][2]"
      ],
      "execution_count": null,
      "outputs": [
        {
          "output_type": "execute_result",
          "data": {
            "text/plain": [
              "23"
            ]
          },
          "metadata": {
            "tags": []
          },
          "execution_count": 71
        }
      ]
    },
    {
      "cell_type": "code",
      "metadata": {
        "id": "7YV_NGTeZfLI",
        "colab": {
          "base_uri": "https://localhost:8080/"
        },
        "outputId": "698bc838-6878-406d-ac43-4bb29d877dd9"
      },
      "source": [
        "A[0,0]"
      ],
      "execution_count": null,
      "outputs": [
        {
          "output_type": "execute_result",
          "data": {
            "text/plain": [
              "11"
            ]
          },
          "metadata": {
            "tags": []
          },
          "execution_count": 72
        }
      ]
    },
    {
      "cell_type": "code",
      "metadata": {
        "id": "Rdwnv__RZlLH",
        "colab": {
          "base_uri": "https://localhost:8080/"
        },
        "outputId": "505a30b6-940a-46d5-c720-3352ad44351c"
      },
      "source": [
        "A[0][0:2]"
      ],
      "execution_count": null,
      "outputs": [
        {
          "output_type": "execute_result",
          "data": {
            "text/plain": [
              "array([11, 12])"
            ]
          },
          "metadata": {
            "tags": []
          },
          "execution_count": 73
        }
      ]
    },
    {
      "cell_type": "code",
      "metadata": {
        "id": "jVxj8yE7ZpOx",
        "colab": {
          "base_uri": "https://localhost:8080/"
        },
        "outputId": "52487d53-aaa1-4071-d28e-f5f49bde7847"
      },
      "source": [
        "A[0:2, 2]"
      ],
      "execution_count": null,
      "outputs": [
        {
          "output_type": "execute_result",
          "data": {
            "text/plain": [
              "array([13, 23])"
            ]
          },
          "metadata": {
            "tags": []
          },
          "execution_count": 74
        }
      ]
    },
    {
      "cell_type": "markdown",
      "metadata": {
        "id": "uKds7AXBZvco"
      },
      "source": [
        "<img src=\"https://s3-api.us-geo.objectstorage.softlayer.net/cf-courses-data/CognitiveClass/PY0101EN/Chapter%205/Images/NumTwoAdd.png\" width=\"500\" />"
      ]
    },
    {
      "cell_type": "markdown",
      "metadata": {
        "id": "f5sXk1pFZ29X"
      },
      "source": [
        "<img src=\"https://s3-api.us-geo.objectstorage.softlayer.net/cf-courses-data/CognitiveClass/PY0101EN/Chapter%205/Images/NumTwoDb.png\" width=\"500\" />"
      ]
    },
    {
      "cell_type": "code",
      "metadata": {
        "id": "PnHy3UgbZ6wK",
        "colab": {
          "base_uri": "https://localhost:8080/"
        },
        "outputId": "3d3352a8-f53c-44c8-baea-469d3eb2a2d6"
      },
      "source": [
        "Y = np.array([[2, 1], [1, 2]]) \n",
        "print(Y)\n",
        "\n",
        "\n",
        "Z = 2*Y\n",
        "print(Z)"
      ],
      "execution_count": null,
      "outputs": [
        {
          "output_type": "stream",
          "text": [
            "[[2 1]\n",
            " [1 2]]\n",
            "[[4 2]\n",
            " [2 4]]\n"
          ],
          "name": "stdout"
        }
      ]
    },
    {
      "cell_type": "markdown",
      "metadata": {
        "id": "0oFkSF6haGRK"
      },
      "source": [
        "<img src=\"https://s3-api.us-geo.objectstorage.softlayer.net/cf-courses-data/CognitiveClass/PY0101EN/Chapter%205/Images/NumTwoMul.png\" width=\"500\" />"
      ]
    },
    {
      "cell_type": "code",
      "metadata": {
        "id": "SDkyKrXKaLzv",
        "colab": {
          "base_uri": "https://localhost:8080/"
        },
        "outputId": "3a41e423-d7a4-4194-8cb1-16a43699f615"
      },
      "source": [
        "Z = Y*Y\n",
        "Z"
      ],
      "execution_count": null,
      "outputs": [
        {
          "output_type": "execute_result",
          "data": {
            "text/plain": [
              "array([[4, 1],\n",
              "       [1, 4]])"
            ]
          },
          "metadata": {
            "tags": []
          },
          "execution_count": 77
        }
      ]
    },
    {
      "cell_type": "code",
      "metadata": {
        "id": "il5UCWRNaWKv",
        "colab": {
          "base_uri": "https://localhost:8080/"
        },
        "outputId": "942b8999-7905-4e33-a949-5ca1b5402662"
      },
      "source": [
        "A = np.array([[0, 1, 1], [1, 0, 1]])\n",
        "A\n"
      ],
      "execution_count": null,
      "outputs": [
        {
          "output_type": "execute_result",
          "data": {
            "text/plain": [
              "array([[0, 1, 1],\n",
              "       [1, 0, 1]])"
            ]
          },
          "metadata": {
            "tags": []
          },
          "execution_count": 78
        }
      ]
    },
    {
      "cell_type": "code",
      "metadata": {
        "id": "qNzrXjHAaYP1",
        "colab": {
          "base_uri": "https://localhost:8080/"
        },
        "outputId": "1823b402-0ebc-41b6-9ff8-381011d04462"
      },
      "source": [
        "B = np.array([[1, 1], [1, 1], [-1, 1]])\n",
        "B"
      ],
      "execution_count": null,
      "outputs": [
        {
          "output_type": "execute_result",
          "data": {
            "text/plain": [
              "array([[ 1,  1],\n",
              "       [ 1,  1],\n",
              "       [-1,  1]])"
            ]
          },
          "metadata": {
            "tags": []
          },
          "execution_count": 79
        }
      ]
    },
    {
      "cell_type": "code",
      "metadata": {
        "id": "Bi4WAkK6aZEg",
        "colab": {
          "base_uri": "https://localhost:8080/"
        },
        "outputId": "70528c6a-3a72-4ab6-d6e9-3f0ae09ea61a"
      },
      "source": [
        "Z = np.dot(A,B)\n",
        "Z"
      ],
      "execution_count": null,
      "outputs": [
        {
          "output_type": "execute_result",
          "data": {
            "text/plain": [
              "array([[0, 2],\n",
              "       [0, 2]])"
            ]
          },
          "metadata": {
            "tags": []
          },
          "execution_count": 80
        }
      ]
    },
    {
      "cell_type": "code",
      "metadata": {
        "id": "00nVGFc2actW",
        "colab": {
          "base_uri": "https://localhost:8080/"
        },
        "outputId": "21a8038a-547b-4263-ad99-fa69076e0ad4"
      },
      "source": [
        "np.sin(Z)"
      ],
      "execution_count": null,
      "outputs": [
        {
          "output_type": "execute_result",
          "data": {
            "text/plain": [
              "array([[0.        , 0.90929743],\n",
              "       [0.        , 0.90929743]])"
            ]
          },
          "metadata": {
            "tags": []
          },
          "execution_count": 81
        }
      ]
    },
    {
      "cell_type": "markdown",
      "metadata": {
        "id": "5x5Bz3Czaje5"
      },
      "source": [
        "Transposed matrix"
      ]
    },
    {
      "cell_type": "code",
      "metadata": {
        "id": "0Z9bf0RaamW6",
        "colab": {
          "base_uri": "https://localhost:8080/"
        },
        "outputId": "4314b08f-f3ea-46b8-a70f-f2b5576999a1"
      },
      "source": [
        "C = np.array([[1,1],[2,2],[3,3]])\n",
        "C"
      ],
      "execution_count": null,
      "outputs": [
        {
          "output_type": "execute_result",
          "data": {
            "text/plain": [
              "array([[1, 1],\n",
              "       [2, 2],\n",
              "       [3, 3]])"
            ]
          },
          "metadata": {
            "tags": []
          },
          "execution_count": 82
        }
      ]
    },
    {
      "cell_type": "code",
      "metadata": {
        "id": "lMd3YfYwang5",
        "colab": {
          "base_uri": "https://localhost:8080/"
        },
        "outputId": "c2ad8a9a-dd3e-404a-8d4a-54baacf43ebf"
      },
      "source": [
        "C.T"
      ],
      "execution_count": null,
      "outputs": [
        {
          "output_type": "execute_result",
          "data": {
            "text/plain": [
              "array([[1, 2, 3],\n",
              "       [1, 2, 3]])"
            ]
          },
          "metadata": {
            "tags": []
          },
          "execution_count": 83
        }
      ]
    },
    {
      "cell_type": "markdown",
      "metadata": {
        "id": "oUg1kz-ta-lZ"
      },
      "source": [
        "Application Programming Interface (API)\n"
      ]
    },
    {
      "cell_type": "code",
      "metadata": {
        "id": "REi094x4bdq6",
        "colab": {
          "base_uri": "https://localhost:8080/"
        },
        "outputId": "7db63d21-5e03-49b1-d175-9b338d3a4f59"
      },
      "source": [
        "!pip install nba_api"
      ],
      "execution_count": null,
      "outputs": [
        {
          "output_type": "stream",
          "text": [
            "Collecting nba_api\n",
            "\u001b[?25l  Downloading https://files.pythonhosted.org/packages/f0/07/d32f5106c95fbee8e54b22d2795f94c2d2213ed6d2e5caac390b56667d37/nba_api-1.1.9-py3-none-any.whl (242kB)\n",
            "\r\u001b[K     |█▍                              | 10kB 15.5MB/s eta 0:00:01\r\u001b[K     |██▊                             | 20kB 15.3MB/s eta 0:00:01\r\u001b[K     |████                            | 30kB 9.2MB/s eta 0:00:01\r\u001b[K     |█████▍                          | 40kB 8.5MB/s eta 0:00:01\r\u001b[K     |██████▊                         | 51kB 5.5MB/s eta 0:00:01\r\u001b[K     |████████▏                       | 61kB 5.6MB/s eta 0:00:01\r\u001b[K     |█████████▌                      | 71kB 6.2MB/s eta 0:00:01\r\u001b[K     |██████████▉                     | 81kB 6.5MB/s eta 0:00:01\r\u001b[K     |████████████▏                   | 92kB 6.0MB/s eta 0:00:01\r\u001b[K     |█████████████▌                  | 102kB 5.3MB/s eta 0:00:01\r\u001b[K     |██████████████▉                 | 112kB 5.3MB/s eta 0:00:01\r\u001b[K     |████████████████▎               | 122kB 5.3MB/s eta 0:00:01\r\u001b[K     |█████████████████▋              | 133kB 5.3MB/s eta 0:00:01\r\u001b[K     |███████████████████             | 143kB 5.3MB/s eta 0:00:01\r\u001b[K     |████████████████████▎           | 153kB 5.3MB/s eta 0:00:01\r\u001b[K     |█████████████████████▋          | 163kB 5.3MB/s eta 0:00:01\r\u001b[K     |███████████████████████         | 174kB 5.3MB/s eta 0:00:01\r\u001b[K     |████████████████████████▍       | 184kB 5.3MB/s eta 0:00:01\r\u001b[K     |█████████████████████████▊      | 194kB 5.3MB/s eta 0:00:01\r\u001b[K     |███████████████████████████     | 204kB 5.3MB/s eta 0:00:01\r\u001b[K     |████████████████████████████▍   | 215kB 5.3MB/s eta 0:00:01\r\u001b[K     |█████████████████████████████▊  | 225kB 5.3MB/s eta 0:00:01\r\u001b[K     |███████████████████████████████ | 235kB 5.3MB/s eta 0:00:01\r\u001b[K     |████████████████████████████████| 245kB 5.3MB/s \n",
            "\u001b[?25hRequirement already satisfied: requests in /usr/local/lib/python3.6/dist-packages (from nba_api) (2.23.0)\n",
            "Requirement already satisfied: idna<3,>=2.5 in /usr/local/lib/python3.6/dist-packages (from requests->nba_api) (2.10)\n",
            "Requirement already satisfied: chardet<4,>=3.0.2 in /usr/local/lib/python3.6/dist-packages (from requests->nba_api) (3.0.4)\n",
            "Requirement already satisfied: urllib3!=1.25.0,!=1.25.1,<1.26,>=1.21.1 in /usr/local/lib/python3.6/dist-packages (from requests->nba_api) (1.24.3)\n",
            "Requirement already satisfied: certifi>=2017.4.17 in /usr/local/lib/python3.6/dist-packages (from requests->nba_api) (2020.6.20)\n",
            "Installing collected packages: nba-api\n",
            "Successfully installed nba-api-1.1.9\n"
          ],
          "name": "stdout"
        }
      ]
    },
    {
      "cell_type": "code",
      "metadata": {
        "id": "-PUQsjfObufJ"
      },
      "source": [
        "def one_dict(list_dict):\n",
        "    keys=list_dict[0].keys()\n",
        "    out_dict={key:[] for key in keys}\n",
        "    for dict_ in list_dict:\n",
        "        for key, value in dict_.items():\n",
        "            out_dict[key].append(value)\n",
        "    return out_dict "
      ],
      "execution_count": null,
      "outputs": []
    },
    {
      "cell_type": "code",
      "metadata": {
        "id": "I9eJ2dYGb_wk"
      },
      "source": [
        "import pandas as pd\n",
        "import matplotlib.pyplot as plt"
      ],
      "execution_count": null,
      "outputs": []
    },
    {
      "cell_type": "code",
      "metadata": {
        "id": "3c6tj6DgcEMB"
      },
      "source": [
        "dict_={'a':[11,21,31],'b':[12,22,32]}"
      ],
      "execution_count": null,
      "outputs": []
    },
    {
      "cell_type": "code",
      "metadata": {
        "id": "VQW11dYrcZ0U",
        "colab": {
          "base_uri": "https://localhost:8080/"
        },
        "outputId": "cb3e2e2a-bb94-4d8e-df56-74aea827f7a6"
      },
      "source": [
        "df=pd.DataFrame(dict_)\n",
        "type(df)"
      ],
      "execution_count": null,
      "outputs": [
        {
          "output_type": "execute_result",
          "data": {
            "text/plain": [
              "pandas.core.frame.DataFrame"
            ]
          },
          "metadata": {
            "tags": []
          },
          "execution_count": 88
        }
      ]
    },
    {
      "cell_type": "markdown",
      "metadata": {
        "id": "kRCWkb65cefn"
      },
      "source": [
        "<img src = \"https://s3-api.us-geo.objectstorage.softlayer.net/cf-courses-data/CognitiveClass/PY0101EN/Chapter%206/images/pandas_api.png\" width = 800, align = \"center\" alt=\"logistic regression block diagram\" />"
      ]
    },
    {
      "cell_type": "code",
      "metadata": {
        "id": "ZZYvNPkFclAQ",
        "colab": {
          "base_uri": "https://localhost:8080/",
          "height": 142
        },
        "outputId": "00c104e9-2a15-427f-dcc8-1d3cd5a301fb"
      },
      "source": [
        "df.head()"
      ],
      "execution_count": null,
      "outputs": [
        {
          "output_type": "execute_result",
          "data": {
            "text/html": [
              "<div>\n",
              "<style scoped>\n",
              "    .dataframe tbody tr th:only-of-type {\n",
              "        vertical-align: middle;\n",
              "    }\n",
              "\n",
              "    .dataframe tbody tr th {\n",
              "        vertical-align: top;\n",
              "    }\n",
              "\n",
              "    .dataframe thead th {\n",
              "        text-align: right;\n",
              "    }\n",
              "</style>\n",
              "<table border=\"1\" class=\"dataframe\">\n",
              "  <thead>\n",
              "    <tr style=\"text-align: right;\">\n",
              "      <th></th>\n",
              "      <th>a</th>\n",
              "      <th>b</th>\n",
              "    </tr>\n",
              "  </thead>\n",
              "  <tbody>\n",
              "    <tr>\n",
              "      <th>0</th>\n",
              "      <td>11</td>\n",
              "      <td>12</td>\n",
              "    </tr>\n",
              "    <tr>\n",
              "      <th>1</th>\n",
              "      <td>21</td>\n",
              "      <td>22</td>\n",
              "    </tr>\n",
              "    <tr>\n",
              "      <th>2</th>\n",
              "      <td>31</td>\n",
              "      <td>32</td>\n",
              "    </tr>\n",
              "  </tbody>\n",
              "</table>\n",
              "</div>"
            ],
            "text/plain": [
              "    a   b\n",
              "0  11  12\n",
              "1  21  22\n",
              "2  31  32"
            ]
          },
          "metadata": {
            "tags": []
          },
          "execution_count": 89
        }
      ]
    },
    {
      "cell_type": "markdown",
      "metadata": {
        "id": "x7y5gn5ocvQs"
      },
      "source": [
        "REST APIs"
      ]
    },
    {
      "cell_type": "code",
      "metadata": {
        "id": "kxjNICapdZj6"
      },
      "source": [
        "from nba_api.stats.static import teams\n",
        "import matplotlib.pyplot as plt"
      ],
      "execution_count": null,
      "outputs": []
    },
    {
      "cell_type": "code",
      "metadata": {
        "id": "DwYRF8WVdgmA"
      },
      "source": [
        "nba_teams = teams.get_teams()"
      ],
      "execution_count": null,
      "outputs": []
    },
    {
      "cell_type": "code",
      "metadata": {
        "id": "XdMUGMRQdiAP",
        "colab": {
          "base_uri": "https://localhost:8080/"
        },
        "outputId": "9c4e5d17-91f5-4d33-af55-b230005b6f8b"
      },
      "source": [
        "nba_teams[0:40]"
      ],
      "execution_count": null,
      "outputs": [
        {
          "output_type": "execute_result",
          "data": {
            "text/plain": [
              "[{'abbreviation': 'ATL',\n",
              "  'city': 'Atlanta',\n",
              "  'full_name': 'Atlanta Hawks',\n",
              "  'id': 1610612737,\n",
              "  'nickname': 'Hawks',\n",
              "  'state': 'Atlanta',\n",
              "  'year_founded': 1949},\n",
              " {'abbreviation': 'BOS',\n",
              "  'city': 'Boston',\n",
              "  'full_name': 'Boston Celtics',\n",
              "  'id': 1610612738,\n",
              "  'nickname': 'Celtics',\n",
              "  'state': 'Massachusetts',\n",
              "  'year_founded': 1946},\n",
              " {'abbreviation': 'CLE',\n",
              "  'city': 'Cleveland',\n",
              "  'full_name': 'Cleveland Cavaliers',\n",
              "  'id': 1610612739,\n",
              "  'nickname': 'Cavaliers',\n",
              "  'state': 'Ohio',\n",
              "  'year_founded': 1970},\n",
              " {'abbreviation': 'NOP',\n",
              "  'city': 'New Orleans',\n",
              "  'full_name': 'New Orleans Pelicans',\n",
              "  'id': 1610612740,\n",
              "  'nickname': 'Pelicans',\n",
              "  'state': 'Louisiana',\n",
              "  'year_founded': 2002},\n",
              " {'abbreviation': 'CHI',\n",
              "  'city': 'Chicago',\n",
              "  'full_name': 'Chicago Bulls',\n",
              "  'id': 1610612741,\n",
              "  'nickname': 'Bulls',\n",
              "  'state': 'Illinois',\n",
              "  'year_founded': 1966},\n",
              " {'abbreviation': 'DAL',\n",
              "  'city': 'Dallas',\n",
              "  'full_name': 'Dallas Mavericks',\n",
              "  'id': 1610612742,\n",
              "  'nickname': 'Mavericks',\n",
              "  'state': 'Texas',\n",
              "  'year_founded': 1980},\n",
              " {'abbreviation': 'DEN',\n",
              "  'city': 'Denver',\n",
              "  'full_name': 'Denver Nuggets',\n",
              "  'id': 1610612743,\n",
              "  'nickname': 'Nuggets',\n",
              "  'state': 'Colorado',\n",
              "  'year_founded': 1976},\n",
              " {'abbreviation': 'GSW',\n",
              "  'city': 'Golden State',\n",
              "  'full_name': 'Golden State Warriors',\n",
              "  'id': 1610612744,\n",
              "  'nickname': 'Warriors',\n",
              "  'state': 'California',\n",
              "  'year_founded': 1946},\n",
              " {'abbreviation': 'HOU',\n",
              "  'city': 'Houston',\n",
              "  'full_name': 'Houston Rockets',\n",
              "  'id': 1610612745,\n",
              "  'nickname': 'Rockets',\n",
              "  'state': 'Texas',\n",
              "  'year_founded': 1967},\n",
              " {'abbreviation': 'LAC',\n",
              "  'city': 'Los Angeles',\n",
              "  'full_name': 'Los Angeles Clippers',\n",
              "  'id': 1610612746,\n",
              "  'nickname': 'Clippers',\n",
              "  'state': 'California',\n",
              "  'year_founded': 1970},\n",
              " {'abbreviation': 'LAL',\n",
              "  'city': 'Los Angeles',\n",
              "  'full_name': 'Los Angeles Lakers',\n",
              "  'id': 1610612747,\n",
              "  'nickname': 'Lakers',\n",
              "  'state': 'California',\n",
              "  'year_founded': 1948},\n",
              " {'abbreviation': 'MIA',\n",
              "  'city': 'Miami',\n",
              "  'full_name': 'Miami Heat',\n",
              "  'id': 1610612748,\n",
              "  'nickname': 'Heat',\n",
              "  'state': 'Florida',\n",
              "  'year_founded': 1988},\n",
              " {'abbreviation': 'MIL',\n",
              "  'city': 'Milwaukee',\n",
              "  'full_name': 'Milwaukee Bucks',\n",
              "  'id': 1610612749,\n",
              "  'nickname': 'Bucks',\n",
              "  'state': 'Wisconsin',\n",
              "  'year_founded': 1968},\n",
              " {'abbreviation': 'MIN',\n",
              "  'city': 'Minnesota',\n",
              "  'full_name': 'Minnesota Timberwolves',\n",
              "  'id': 1610612750,\n",
              "  'nickname': 'Timberwolves',\n",
              "  'state': 'Minnesota',\n",
              "  'year_founded': 1989},\n",
              " {'abbreviation': 'BKN',\n",
              "  'city': 'Brooklyn',\n",
              "  'full_name': 'Brooklyn Nets',\n",
              "  'id': 1610612751,\n",
              "  'nickname': 'Nets',\n",
              "  'state': 'New York',\n",
              "  'year_founded': 1976},\n",
              " {'abbreviation': 'NYK',\n",
              "  'city': 'New York',\n",
              "  'full_name': 'New York Knicks',\n",
              "  'id': 1610612752,\n",
              "  'nickname': 'Knicks',\n",
              "  'state': 'New York',\n",
              "  'year_founded': 1946},\n",
              " {'abbreviation': 'ORL',\n",
              "  'city': 'Orlando',\n",
              "  'full_name': 'Orlando Magic',\n",
              "  'id': 1610612753,\n",
              "  'nickname': 'Magic',\n",
              "  'state': 'Florida',\n",
              "  'year_founded': 1989},\n",
              " {'abbreviation': 'IND',\n",
              "  'city': 'Indiana',\n",
              "  'full_name': 'Indiana Pacers',\n",
              "  'id': 1610612754,\n",
              "  'nickname': 'Pacers',\n",
              "  'state': 'Indiana',\n",
              "  'year_founded': 1976},\n",
              " {'abbreviation': 'PHI',\n",
              "  'city': 'Philadelphia',\n",
              "  'full_name': 'Philadelphia 76ers',\n",
              "  'id': 1610612755,\n",
              "  'nickname': '76ers',\n",
              "  'state': 'Pennsylvania',\n",
              "  'year_founded': 1949},\n",
              " {'abbreviation': 'PHX',\n",
              "  'city': 'Phoenix',\n",
              "  'full_name': 'Phoenix Suns',\n",
              "  'id': 1610612756,\n",
              "  'nickname': 'Suns',\n",
              "  'state': 'Arizona',\n",
              "  'year_founded': 1968},\n",
              " {'abbreviation': 'POR',\n",
              "  'city': 'Portland',\n",
              "  'full_name': 'Portland Trail Blazers',\n",
              "  'id': 1610612757,\n",
              "  'nickname': 'Trail Blazers',\n",
              "  'state': 'Oregon',\n",
              "  'year_founded': 1970},\n",
              " {'abbreviation': 'SAC',\n",
              "  'city': 'Sacramento',\n",
              "  'full_name': 'Sacramento Kings',\n",
              "  'id': 1610612758,\n",
              "  'nickname': 'Kings',\n",
              "  'state': 'California',\n",
              "  'year_founded': 1948},\n",
              " {'abbreviation': 'SAS',\n",
              "  'city': 'San Antonio',\n",
              "  'full_name': 'San Antonio Spurs',\n",
              "  'id': 1610612759,\n",
              "  'nickname': 'Spurs',\n",
              "  'state': 'Texas',\n",
              "  'year_founded': 1976},\n",
              " {'abbreviation': 'OKC',\n",
              "  'city': 'Oklahoma City',\n",
              "  'full_name': 'Oklahoma City Thunder',\n",
              "  'id': 1610612760,\n",
              "  'nickname': 'Thunder',\n",
              "  'state': 'Oklahoma',\n",
              "  'year_founded': 1967},\n",
              " {'abbreviation': 'TOR',\n",
              "  'city': 'Toronto',\n",
              "  'full_name': 'Toronto Raptors',\n",
              "  'id': 1610612761,\n",
              "  'nickname': 'Raptors',\n",
              "  'state': 'Ontario',\n",
              "  'year_founded': 1995},\n",
              " {'abbreviation': 'UTA',\n",
              "  'city': 'Utah',\n",
              "  'full_name': 'Utah Jazz',\n",
              "  'id': 1610612762,\n",
              "  'nickname': 'Jazz',\n",
              "  'state': 'Utah',\n",
              "  'year_founded': 1974},\n",
              " {'abbreviation': 'MEM',\n",
              "  'city': 'Memphis',\n",
              "  'full_name': 'Memphis Grizzlies',\n",
              "  'id': 1610612763,\n",
              "  'nickname': 'Grizzlies',\n",
              "  'state': 'Tennessee',\n",
              "  'year_founded': 1995},\n",
              " {'abbreviation': 'WAS',\n",
              "  'city': 'Washington',\n",
              "  'full_name': 'Washington Wizards',\n",
              "  'id': 1610612764,\n",
              "  'nickname': 'Wizards',\n",
              "  'state': 'District of Columbia',\n",
              "  'year_founded': 1961},\n",
              " {'abbreviation': 'DET',\n",
              "  'city': 'Detroit',\n",
              "  'full_name': 'Detroit Pistons',\n",
              "  'id': 1610612765,\n",
              "  'nickname': 'Pistons',\n",
              "  'state': 'Michigan',\n",
              "  'year_founded': 1948},\n",
              " {'abbreviation': 'CHA',\n",
              "  'city': 'Charlotte',\n",
              "  'full_name': 'Charlotte Hornets',\n",
              "  'id': 1610612766,\n",
              "  'nickname': 'Hornets',\n",
              "  'state': 'North Carolina',\n",
              "  'year_founded': 1988}]"
            ]
          },
          "metadata": {
            "tags": []
          },
          "execution_count": 94
        }
      ]
    },
    {
      "cell_type": "code",
      "metadata": {
        "id": "xwUvrXPvd42G",
        "colab": {
          "base_uri": "https://localhost:8080/",
          "height": 204
        },
        "outputId": "3761c325-23d8-455b-b281-633ced9456af"
      },
      "source": [
        "dict_nba_team=one_dict(nba_teams)\n",
        "df_teams=pd.DataFrame(dict_nba_team)\n",
        "df_teams.tail()"
      ],
      "execution_count": null,
      "outputs": [
        {
          "output_type": "execute_result",
          "data": {
            "text/html": [
              "<div>\n",
              "<style scoped>\n",
              "    .dataframe tbody tr th:only-of-type {\n",
              "        vertical-align: middle;\n",
              "    }\n",
              "\n",
              "    .dataframe tbody tr th {\n",
              "        vertical-align: top;\n",
              "    }\n",
              "\n",
              "    .dataframe thead th {\n",
              "        text-align: right;\n",
              "    }\n",
              "</style>\n",
              "<table border=\"1\" class=\"dataframe\">\n",
              "  <thead>\n",
              "    <tr style=\"text-align: right;\">\n",
              "      <th></th>\n",
              "      <th>id</th>\n",
              "      <th>full_name</th>\n",
              "      <th>abbreviation</th>\n",
              "      <th>nickname</th>\n",
              "      <th>city</th>\n",
              "      <th>state</th>\n",
              "      <th>year_founded</th>\n",
              "    </tr>\n",
              "  </thead>\n",
              "  <tbody>\n",
              "    <tr>\n",
              "      <th>25</th>\n",
              "      <td>1610612762</td>\n",
              "      <td>Utah Jazz</td>\n",
              "      <td>UTA</td>\n",
              "      <td>Jazz</td>\n",
              "      <td>Utah</td>\n",
              "      <td>Utah</td>\n",
              "      <td>1974</td>\n",
              "    </tr>\n",
              "    <tr>\n",
              "      <th>26</th>\n",
              "      <td>1610612763</td>\n",
              "      <td>Memphis Grizzlies</td>\n",
              "      <td>MEM</td>\n",
              "      <td>Grizzlies</td>\n",
              "      <td>Memphis</td>\n",
              "      <td>Tennessee</td>\n",
              "      <td>1995</td>\n",
              "    </tr>\n",
              "    <tr>\n",
              "      <th>27</th>\n",
              "      <td>1610612764</td>\n",
              "      <td>Washington Wizards</td>\n",
              "      <td>WAS</td>\n",
              "      <td>Wizards</td>\n",
              "      <td>Washington</td>\n",
              "      <td>District of Columbia</td>\n",
              "      <td>1961</td>\n",
              "    </tr>\n",
              "    <tr>\n",
              "      <th>28</th>\n",
              "      <td>1610612765</td>\n",
              "      <td>Detroit Pistons</td>\n",
              "      <td>DET</td>\n",
              "      <td>Pistons</td>\n",
              "      <td>Detroit</td>\n",
              "      <td>Michigan</td>\n",
              "      <td>1948</td>\n",
              "    </tr>\n",
              "    <tr>\n",
              "      <th>29</th>\n",
              "      <td>1610612766</td>\n",
              "      <td>Charlotte Hornets</td>\n",
              "      <td>CHA</td>\n",
              "      <td>Hornets</td>\n",
              "      <td>Charlotte</td>\n",
              "      <td>North Carolina</td>\n",
              "      <td>1988</td>\n",
              "    </tr>\n",
              "  </tbody>\n",
              "</table>\n",
              "</div>"
            ],
            "text/plain": [
              "            id           full_name  ...                 state year_founded\n",
              "25  1610612762           Utah Jazz  ...                  Utah         1974\n",
              "26  1610612763   Memphis Grizzlies  ...             Tennessee         1995\n",
              "27  1610612764  Washington Wizards  ...  District of Columbia         1961\n",
              "28  1610612765     Detroit Pistons  ...              Michigan         1948\n",
              "29  1610612766   Charlotte Hornets  ...        North Carolina         1988\n",
              "\n",
              "[5 rows x 7 columns]"
            ]
          },
          "metadata": {
            "tags": []
          },
          "execution_count": 96
        }
      ]
    },
    {
      "cell_type": "code",
      "metadata": {
        "id": "qnrdVmECeBCA",
        "colab": {
          "base_uri": "https://localhost:8080/",
          "height": 80
        },
        "outputId": "b6b8e8f5-dbff-49a4-a525-09d312579149"
      },
      "source": [
        "df_warriors=df_teams[df_teams['nickname']=='Warriors']\n",
        "df_warriors"
      ],
      "execution_count": null,
      "outputs": [
        {
          "output_type": "execute_result",
          "data": {
            "text/html": [
              "<div>\n",
              "<style scoped>\n",
              "    .dataframe tbody tr th:only-of-type {\n",
              "        vertical-align: middle;\n",
              "    }\n",
              "\n",
              "    .dataframe tbody tr th {\n",
              "        vertical-align: top;\n",
              "    }\n",
              "\n",
              "    .dataframe thead th {\n",
              "        text-align: right;\n",
              "    }\n",
              "</style>\n",
              "<table border=\"1\" class=\"dataframe\">\n",
              "  <thead>\n",
              "    <tr style=\"text-align: right;\">\n",
              "      <th></th>\n",
              "      <th>id</th>\n",
              "      <th>full_name</th>\n",
              "      <th>abbreviation</th>\n",
              "      <th>nickname</th>\n",
              "      <th>city</th>\n",
              "      <th>state</th>\n",
              "      <th>year_founded</th>\n",
              "    </tr>\n",
              "  </thead>\n",
              "  <tbody>\n",
              "    <tr>\n",
              "      <th>7</th>\n",
              "      <td>1610612744</td>\n",
              "      <td>Golden State Warriors</td>\n",
              "      <td>GSW</td>\n",
              "      <td>Warriors</td>\n",
              "      <td>Golden State</td>\n",
              "      <td>California</td>\n",
              "      <td>1946</td>\n",
              "    </tr>\n",
              "  </tbody>\n",
              "</table>\n",
              "</div>"
            ],
            "text/plain": [
              "           id              full_name  ...       state year_founded\n",
              "7  1610612744  Golden State Warriors  ...  California         1946\n",
              "\n",
              "[1 rows x 7 columns]"
            ]
          },
          "metadata": {
            "tags": []
          },
          "execution_count": 97
        }
      ]
    },
    {
      "cell_type": "code",
      "metadata": {
        "id": "wCooiNiqeGuE",
        "colab": {
          "base_uri": "https://localhost:8080/"
        },
        "outputId": "35d49c19-1569-4134-fc88-e1d81a1ba91e"
      },
      "source": [
        "id_warriors=df_warriors[['id']].values[0][0]\n",
        "#we now have an integer that can be used   to request the Warriors information \n",
        "id_warriors"
      ],
      "execution_count": null,
      "outputs": [
        {
          "output_type": "execute_result",
          "data": {
            "text/plain": [
              "1610612744"
            ]
          },
          "metadata": {
            "tags": []
          },
          "execution_count": 98
        }
      ]
    },
    {
      "cell_type": "code",
      "metadata": {
        "id": "L1He8Zb8eKEn"
      },
      "source": [
        "from nba_api.stats.endpoints import leaguegamefinder"
      ],
      "execution_count": null,
      "outputs": []
    },
    {
      "cell_type": "code",
      "metadata": {
        "id": "LluD9-1QedqZ"
      },
      "source": [
        "#gamefinder = leaguegamefinder.LeagueGameFinder(team_id_nullable=id_warriors)"
      ],
      "execution_count": null,
      "outputs": []
    },
    {
      "cell_type": "code",
      "metadata": {
        "id": "f6s29HXfejEM"
      },
      "source": [
        "# gamefinder.get_json()"
      ],
      "execution_count": null,
      "outputs": []
    },
    {
      "cell_type": "code",
      "metadata": {
        "id": "0U1cWvIfesW4",
        "colab": {
          "base_uri": "https://localhost:8080/"
        },
        "outputId": "754eef0c-2ce3-45e5-d1e1-af7ede3061e4"
      },
      "source": [
        "! wget https://s3-api.us-geo.objectstorage.softlayer.net/cf-courses-data/CognitiveClass/PY0101EN/Chapter%205/Labs/Golden_State.pkl"
      ],
      "execution_count": null,
      "outputs": [
        {
          "output_type": "stream",
          "text": [
            "--2020-11-12 17:22:22--  https://s3-api.us-geo.objectstorage.softlayer.net/cf-courses-data/CognitiveClass/PY0101EN/Chapter%205/Labs/Golden_State.pkl\n",
            "Resolving s3-api.us-geo.objectstorage.softlayer.net (s3-api.us-geo.objectstorage.softlayer.net)... 67.228.254.196\n",
            "Connecting to s3-api.us-geo.objectstorage.softlayer.net (s3-api.us-geo.objectstorage.softlayer.net)|67.228.254.196|:443... connected.\n",
            "HTTP request sent, awaiting response... 200 OK\n",
            "Length: 811065 (792K) [application/octet-stream]\n",
            "Saving to: ‘Golden_State.pkl’\n",
            "\n",
            "Golden_State.pkl    100%[===================>] 792.06K  --.-KB/s    in 0.1s    \n",
            "\n",
            "2020-11-12 17:22:23 (5.93 MB/s) - ‘Golden_State.pkl’ saved [811065/811065]\n",
            "\n"
          ],
          "name": "stdout"
        }
      ]
    },
    {
      "cell_type": "code",
      "metadata": {
        "id": "7DYJwuqGewX9",
        "colab": {
          "base_uri": "https://localhost:8080/",
          "height": 394
        },
        "outputId": "5d4ec800-bef0-4f1a-b9da-d6d88b12a959"
      },
      "source": [
        "file_name = \"Golden_State.pkl\"\n",
        "games = pd.read_pickle(file_name)\n",
        "games.head()"
      ],
      "execution_count": null,
      "outputs": [
        {
          "output_type": "execute_result",
          "data": {
            "text/html": [
              "<div>\n",
              "<style scoped>\n",
              "    .dataframe tbody tr th:only-of-type {\n",
              "        vertical-align: middle;\n",
              "    }\n",
              "\n",
              "    .dataframe tbody tr th {\n",
              "        vertical-align: top;\n",
              "    }\n",
              "\n",
              "    .dataframe thead th {\n",
              "        text-align: right;\n",
              "    }\n",
              "</style>\n",
              "<table border=\"1\" class=\"dataframe\">\n",
              "  <thead>\n",
              "    <tr style=\"text-align: right;\">\n",
              "      <th></th>\n",
              "      <th>SEASON_ID</th>\n",
              "      <th>TEAM_ID</th>\n",
              "      <th>TEAM_ABBREVIATION</th>\n",
              "      <th>TEAM_NAME</th>\n",
              "      <th>GAME_ID</th>\n",
              "      <th>GAME_DATE</th>\n",
              "      <th>MATCHUP</th>\n",
              "      <th>WL</th>\n",
              "      <th>MIN</th>\n",
              "      <th>PTS</th>\n",
              "      <th>FGM</th>\n",
              "      <th>FGA</th>\n",
              "      <th>FG_PCT</th>\n",
              "      <th>FG3M</th>\n",
              "      <th>FG3A</th>\n",
              "      <th>FG3_PCT</th>\n",
              "      <th>FTM</th>\n",
              "      <th>FTA</th>\n",
              "      <th>FT_PCT</th>\n",
              "      <th>OREB</th>\n",
              "      <th>DREB</th>\n",
              "      <th>REB</th>\n",
              "      <th>AST</th>\n",
              "      <th>STL</th>\n",
              "      <th>BLK</th>\n",
              "      <th>TOV</th>\n",
              "      <th>PF</th>\n",
              "      <th>PLUS_MINUS</th>\n",
              "    </tr>\n",
              "  </thead>\n",
              "  <tbody>\n",
              "    <tr>\n",
              "      <th>0</th>\n",
              "      <td>22019</td>\n",
              "      <td>1610612744</td>\n",
              "      <td>GSW</td>\n",
              "      <td>Golden State Warriors</td>\n",
              "      <td>1521900066</td>\n",
              "      <td>2019-07-12</td>\n",
              "      <td>GSW vs. LAL</td>\n",
              "      <td>L</td>\n",
              "      <td>200</td>\n",
              "      <td>87</td>\n",
              "      <td>32</td>\n",
              "      <td>82</td>\n",
              "      <td>0.390</td>\n",
              "      <td>7</td>\n",
              "      <td>31.0</td>\n",
              "      <td>0.226</td>\n",
              "      <td>16</td>\n",
              "      <td>20</td>\n",
              "      <td>0.800</td>\n",
              "      <td>13.0</td>\n",
              "      <td>29.0</td>\n",
              "      <td>42.0</td>\n",
              "      <td>13</td>\n",
              "      <td>10.0</td>\n",
              "      <td>3</td>\n",
              "      <td>11.0</td>\n",
              "      <td>21</td>\n",
              "      <td>3.2</td>\n",
              "    </tr>\n",
              "    <tr>\n",
              "      <th>1</th>\n",
              "      <td>22019</td>\n",
              "      <td>1610612744</td>\n",
              "      <td>GSW</td>\n",
              "      <td>Golden State Warriors</td>\n",
              "      <td>1521900058</td>\n",
              "      <td>2019-07-10</td>\n",
              "      <td>GSW @ DEN</td>\n",
              "      <td>W</td>\n",
              "      <td>201</td>\n",
              "      <td>73</td>\n",
              "      <td>29</td>\n",
              "      <td>66</td>\n",
              "      <td>0.439</td>\n",
              "      <td>2</td>\n",
              "      <td>15.0</td>\n",
              "      <td>0.133</td>\n",
              "      <td>13</td>\n",
              "      <td>15</td>\n",
              "      <td>0.867</td>\n",
              "      <td>7.0</td>\n",
              "      <td>27.0</td>\n",
              "      <td>34.0</td>\n",
              "      <td>10</td>\n",
              "      <td>11.0</td>\n",
              "      <td>7</td>\n",
              "      <td>20.0</td>\n",
              "      <td>20</td>\n",
              "      <td>-8.0</td>\n",
              "    </tr>\n",
              "    <tr>\n",
              "      <th>2</th>\n",
              "      <td>22019</td>\n",
              "      <td>1610612744</td>\n",
              "      <td>GSW</td>\n",
              "      <td>Golden State Warriors</td>\n",
              "      <td>1521900039</td>\n",
              "      <td>2019-07-08</td>\n",
              "      <td>GSW @ LAL</td>\n",
              "      <td>W</td>\n",
              "      <td>200</td>\n",
              "      <td>88</td>\n",
              "      <td>32</td>\n",
              "      <td>74</td>\n",
              "      <td>0.432</td>\n",
              "      <td>6</td>\n",
              "      <td>28.0</td>\n",
              "      <td>0.214</td>\n",
              "      <td>18</td>\n",
              "      <td>29</td>\n",
              "      <td>0.621</td>\n",
              "      <td>8.0</td>\n",
              "      <td>29.0</td>\n",
              "      <td>37.0</td>\n",
              "      <td>21</td>\n",
              "      <td>10.0</td>\n",
              "      <td>4</td>\n",
              "      <td>13.0</td>\n",
              "      <td>22</td>\n",
              "      <td>8.0</td>\n",
              "    </tr>\n",
              "    <tr>\n",
              "      <th>3</th>\n",
              "      <td>22019</td>\n",
              "      <td>1610612744</td>\n",
              "      <td>GSW</td>\n",
              "      <td>Golden State Warriors</td>\n",
              "      <td>1521900020</td>\n",
              "      <td>2019-07-07</td>\n",
              "      <td>GSW vs. TOR</td>\n",
              "      <td>W</td>\n",
              "      <td>201</td>\n",
              "      <td>80</td>\n",
              "      <td>28</td>\n",
              "      <td>70</td>\n",
              "      <td>0.400</td>\n",
              "      <td>12</td>\n",
              "      <td>27.0</td>\n",
              "      <td>0.444</td>\n",
              "      <td>12</td>\n",
              "      <td>13</td>\n",
              "      <td>0.923</td>\n",
              "      <td>6.0</td>\n",
              "      <td>37.0</td>\n",
              "      <td>43.0</td>\n",
              "      <td>18</td>\n",
              "      <td>8.0</td>\n",
              "      <td>3</td>\n",
              "      <td>20.0</td>\n",
              "      <td>25</td>\n",
              "      <td>10.0</td>\n",
              "    </tr>\n",
              "    <tr>\n",
              "      <th>4</th>\n",
              "      <td>22019</td>\n",
              "      <td>1610612744</td>\n",
              "      <td>GSW</td>\n",
              "      <td>Golden State Warriors</td>\n",
              "      <td>1521900007</td>\n",
              "      <td>2019-07-05</td>\n",
              "      <td>GSW vs. CHA</td>\n",
              "      <td>L</td>\n",
              "      <td>200</td>\n",
              "      <td>85</td>\n",
              "      <td>33</td>\n",
              "      <td>85</td>\n",
              "      <td>0.388</td>\n",
              "      <td>11</td>\n",
              "      <td>40.0</td>\n",
              "      <td>0.275</td>\n",
              "      <td>8</td>\n",
              "      <td>9</td>\n",
              "      <td>0.889</td>\n",
              "      <td>8.0</td>\n",
              "      <td>28.0</td>\n",
              "      <td>36.0</td>\n",
              "      <td>19</td>\n",
              "      <td>9.0</td>\n",
              "      <td>3</td>\n",
              "      <td>13.0</td>\n",
              "      <td>15</td>\n",
              "      <td>-8.0</td>\n",
              "    </tr>\n",
              "  </tbody>\n",
              "</table>\n",
              "</div>"
            ],
            "text/plain": [
              "  SEASON_ID     TEAM_ID TEAM_ABBREVIATION  ...   TOV  PF PLUS_MINUS\n",
              "0     22019  1610612744               GSW  ...  11.0  21        3.2\n",
              "1     22019  1610612744               GSW  ...  20.0  20       -8.0\n",
              "2     22019  1610612744               GSW  ...  13.0  22        8.0\n",
              "3     22019  1610612744               GSW  ...  20.0  25       10.0\n",
              "4     22019  1610612744               GSW  ...  13.0  15       -8.0\n",
              "\n",
              "[5 rows x 28 columns]"
            ]
          },
          "metadata": {
            "tags": []
          },
          "execution_count": 102
        }
      ]
    },
    {
      "cell_type": "code",
      "metadata": {
        "id": "zU5LeTone4bL"
      },
      "source": [
        "games_home=games [games ['MATCHUP']=='GSW vs. TOR']\n",
        "games_away=games [games ['MATCHUP']=='GSW @ TOR']"
      ],
      "execution_count": null,
      "outputs": []
    },
    {
      "cell_type": "code",
      "metadata": {
        "id": "y9Fa3kPfe9iB",
        "colab": {
          "base_uri": "https://localhost:8080/"
        },
        "outputId": "602ded3d-b051-4fa5-9187-e53bc10f8622"
      },
      "source": [
        "games_home.mean()['PLUS_MINUS']"
      ],
      "execution_count": null,
      "outputs": [
        {
          "output_type": "execute_result",
          "data": {
            "text/plain": [
              "3.730769230769231"
            ]
          },
          "metadata": {
            "tags": []
          },
          "execution_count": 104
        }
      ]
    },
    {
      "cell_type": "code",
      "metadata": {
        "id": "B0MxnMbVfADY",
        "colab": {
          "base_uri": "https://localhost:8080/"
        },
        "outputId": "1e6dbeda-4db2-4a2b-9c44-5cd3d62e437f"
      },
      "source": [
        "games_away.mean()['PLUS_MINUS']"
      ],
      "execution_count": null,
      "outputs": [
        {
          "output_type": "execute_result",
          "data": {
            "text/plain": [
              "-0.6071428571428571"
            ]
          },
          "metadata": {
            "tags": []
          },
          "execution_count": 105
        }
      ]
    },
    {
      "cell_type": "code",
      "metadata": {
        "id": "q5nD1ATAfF6L",
        "colab": {
          "base_uri": "https://localhost:8080/",
          "height": 281
        },
        "outputId": "b23f05b0-25a8-4c61-d39b-3403532478ad"
      },
      "source": [
        "fig, ax = plt.subplots()\n",
        "\n",
        "games_away.plot(x='GAME_DATE',y='PLUS_MINUS', ax=ax)\n",
        "games_home.plot(x='GAME_DATE',y='PLUS_MINUS', ax=ax)\n",
        "ax.legend([\"away\", \"home\"])\n",
        "plt.show()"
      ],
      "execution_count": null,
      "outputs": [
        {
          "output_type": "display_data",
          "data": {
            "image/png": "[encoded data removed]",
            "text/plain": [
              "<Figure size 432x288 with 1 Axes>"
            ]
          },
          "metadata": {
            "tags": [],
            "needs_background": "light"
          }
        }
      ]
    }
  ]
}